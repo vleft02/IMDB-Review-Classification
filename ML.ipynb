{
 "cells": [
  {
   "cell_type": "markdown",
   "metadata": {},
   "source": [
    "## IMDB review sentiment Analysis\n"
   ]
  },
  {
   "cell_type": "markdown",
   "metadata": {},
   "source": [
    "#### Μέλη Ομάδας:\n",
    "- Ευάγγελος Λευτάκης : 3200093\n",
    "- Ρέα Σκλήκα : 3210181\n",
    "- Σοφία-Ζωή Σωτηρίου : 3210192"
   ]
  },
  {
   "cell_type": "markdown",
   "metadata": {},
   "source": [
    "### Dependencies"
   ]
  },
  {
   "cell_type": "code",
   "execution_count": 1,
   "metadata": {},
   "outputs": [
    {
     "name": "stdout",
     "output_type": "stream",
     "text": [
      "Requirement already satisfied: pandas in c:\\users\\user\\appdata\\local\\programs\\python\\python311\\lib\\site-packages (2.1.4)\n",
      "Requirement already satisfied: numpy<2,>=1.23.2 in c:\\users\\user\\appdata\\local\\programs\\python\\python311\\lib\\site-packages (from pandas) (1.26.3)\n",
      "Requirement already satisfied: python-dateutil>=2.8.2 in c:\\users\\user\\appdata\\local\\programs\\python\\python311\\lib\\site-packages (from pandas) (2.8.2)\n",
      "Requirement already satisfied: pytz>=2020.1 in c:\\users\\user\\appdata\\local\\programs\\python\\python311\\lib\\site-packages (from pandas) (2023.3.post1)\n",
      "Requirement already satisfied: tzdata>=2022.1 in c:\\users\\user\\appdata\\local\\programs\\python\\python311\\lib\\site-packages (from pandas) (2023.4)\n",
      "Requirement already satisfied: six>=1.5 in c:\\users\\user\\appdata\\local\\programs\\python\\python311\\lib\\site-packages (from python-dateutil>=2.8.2->pandas) (1.16.0)\n",
      "Requirement already satisfied: numpy in c:\\users\\user\\appdata\\local\\programs\\python\\python311\\lib\\site-packages (1.26.3)\n",
      "Requirement already satisfied: scipy in c:\\users\\user\\appdata\\local\\programs\\python\\python311\\lib\\site-packages (1.11.4)\n",
      "Requirement already satisfied: numpy<1.28.0,>=1.21.6 in c:\\users\\user\\appdata\\local\\programs\\python\\python311\\lib\\site-packages (from scipy) (1.26.3)\n",
      "Requirement already satisfied: tensorflow in c:\\users\\user\\appdata\\local\\programs\\python\\python311\\lib\\site-packages (2.15.0)\n",
      "Requirement already satisfied: tensorflow-intel==2.15.0 in c:\\users\\user\\appdata\\local\\programs\\python\\python311\\lib\\site-packages (from tensorflow) (2.15.0)\n",
      "Requirement already satisfied: absl-py>=1.0.0 in c:\\users\\user\\appdata\\local\\programs\\python\\python311\\lib\\site-packages (from tensorflow-intel==2.15.0->tensorflow) (2.0.0)\n",
      "Requirement already satisfied: astunparse>=1.6.0 in c:\\users\\user\\appdata\\local\\programs\\python\\python311\\lib\\site-packages (from tensorflow-intel==2.15.0->tensorflow) (1.6.3)\n",
      "Requirement already satisfied: flatbuffers>=23.5.26 in c:\\users\\user\\appdata\\local\\programs\\python\\python311\\lib\\site-packages (from tensorflow-intel==2.15.0->tensorflow) (23.5.26)\n",
      "Requirement already satisfied: gast!=0.5.0,!=0.5.1,!=0.5.2,>=0.2.1 in c:\\users\\user\\appdata\\local\\programs\\python\\python311\\lib\\site-packages (from tensorflow-intel==2.15.0->tensorflow) (0.4.0)\n",
      "Requirement already satisfied: google-pasta>=0.1.1 in c:\\users\\user\\appdata\\local\\programs\\python\\python311\\lib\\site-packages (from tensorflow-intel==2.15.0->tensorflow) (0.2.0)\n",
      "Requirement already satisfied: h5py>=2.9.0 in c:\\users\\user\\appdata\\local\\programs\\python\\python311\\lib\\site-packages (from tensorflow-intel==2.15.0->tensorflow) (3.10.0)\n",
      "Requirement already satisfied: libclang>=13.0.0 in c:\\users\\user\\appdata\\local\\programs\\python\\python311\\lib\\site-packages (from tensorflow-intel==2.15.0->tensorflow) (16.0.6)\n",
      "Requirement already satisfied: ml-dtypes~=0.2.0 in c:\\users\\user\\appdata\\local\\programs\\python\\python311\\lib\\site-packages (from tensorflow-intel==2.15.0->tensorflow) (0.2.0)\n",
      "Requirement already satisfied: numpy<2.0.0,>=1.23.5 in c:\\users\\user\\appdata\\local\\programs\\python\\python311\\lib\\site-packages (from tensorflow-intel==2.15.0->tensorflow) (1.26.3)\n",
      "Requirement already satisfied: opt-einsum>=2.3.2 in c:\\users\\user\\appdata\\local\\programs\\python\\python311\\lib\\site-packages (from tensorflow-intel==2.15.0->tensorflow) (3.3.0)\n",
      "Requirement already satisfied: packaging in c:\\users\\user\\appdata\\local\\programs\\python\\python311\\lib\\site-packages (from tensorflow-intel==2.15.0->tensorflow) (23.1)\n",
      "Requirement already satisfied: protobuf!=4.21.0,!=4.21.1,!=4.21.2,!=4.21.3,!=4.21.4,!=4.21.5,<5.0.0dev,>=3.20.3 in c:\\users\\user\\appdata\\local\\programs\\python\\python311\\lib\\site-packages (from tensorflow-intel==2.15.0->tensorflow) (4.23.4)\n",
      "Requirement already satisfied: setuptools in c:\\users\\user\\appdata\\local\\programs\\python\\python311\\lib\\site-packages (from tensorflow-intel==2.15.0->tensorflow) (65.5.0)\n",
      "Requirement already satisfied: six>=1.12.0 in c:\\users\\user\\appdata\\local\\programs\\python\\python311\\lib\\site-packages (from tensorflow-intel==2.15.0->tensorflow) (1.16.0)\n",
      "Requirement already satisfied: termcolor>=1.1.0 in c:\\users\\user\\appdata\\local\\programs\\python\\python311\\lib\\site-packages (from tensorflow-intel==2.15.0->tensorflow) (2.4.0)\n",
      "Requirement already satisfied: typing-extensions>=3.6.6 in c:\\users\\user\\appdata\\local\\programs\\python\\python311\\lib\\site-packages (from tensorflow-intel==2.15.0->tensorflow) (4.5.0)\n",
      "Requirement already satisfied: wrapt<1.15,>=1.11.0 in c:\\users\\user\\appdata\\local\\programs\\python\\python311\\lib\\site-packages (from tensorflow-intel==2.15.0->tensorflow) (1.14.1)\n",
      "Requirement already satisfied: tensorflow-io-gcs-filesystem>=0.23.1 in c:\\users\\user\\appdata\\local\\programs\\python\\python311\\lib\\site-packages (from tensorflow-intel==2.15.0->tensorflow) (0.31.0)\n",
      "Requirement already satisfied: grpcio<2.0,>=1.24.3 in c:\\users\\user\\appdata\\local\\programs\\python\\python311\\lib\\site-packages (from tensorflow-intel==2.15.0->tensorflow) (1.60.0)\n",
      "Requirement already satisfied: tensorboard<2.16,>=2.15 in c:\\users\\user\\appdata\\local\\programs\\python\\python311\\lib\\site-packages (from tensorflow-intel==2.15.0->tensorflow) (2.15.1)\n",
      "Requirement already satisfied: tensorflow-estimator<2.16,>=2.15.0 in c:\\users\\user\\appdata\\local\\programs\\python\\python311\\lib\\site-packages (from tensorflow-intel==2.15.0->tensorflow) (2.15.0)\n",
      "Requirement already satisfied: keras<2.16,>=2.15.0 in c:\\users\\user\\appdata\\local\\programs\\python\\python311\\lib\\site-packages (from tensorflow-intel==2.15.0->tensorflow) (2.15.0)\n",
      "Requirement already satisfied: wheel<1.0,>=0.23.0 in c:\\users\\user\\appdata\\local\\programs\\python\\python311\\lib\\site-packages (from astunparse>=1.6.0->tensorflow-intel==2.15.0->tensorflow) (0.42.0)\n",
      "Requirement already satisfied: google-auth<3,>=1.6.3 in c:\\users\\user\\appdata\\local\\programs\\python\\python311\\lib\\site-packages (from tensorboard<2.16,>=2.15->tensorflow-intel==2.15.0->tensorflow) (2.26.1)\n",
      "Requirement already satisfied: google-auth-oauthlib<2,>=0.5 in c:\\users\\user\\appdata\\local\\programs\\python\\python311\\lib\\site-packages (from tensorboard<2.16,>=2.15->tensorflow-intel==2.15.0->tensorflow) (1.0.0)\n",
      "Requirement already satisfied: markdown>=2.6.8 in c:\\users\\user\\appdata\\local\\programs\\python\\python311\\lib\\site-packages (from tensorboard<2.16,>=2.15->tensorflow-intel==2.15.0->tensorflow) (3.5.2)\n",
      "Requirement already satisfied: requests<3,>=2.21.0 in c:\\users\\user\\appdata\\local\\programs\\python\\python311\\lib\\site-packages (from tensorboard<2.16,>=2.15->tensorflow-intel==2.15.0->tensorflow) (2.31.0)\n",
      "Requirement already satisfied: tensorboard-data-server<0.8.0,>=0.7.0 in c:\\users\\user\\appdata\\local\\programs\\python\\python311\\lib\\site-packages (from tensorboard<2.16,>=2.15->tensorflow-intel==2.15.0->tensorflow) (0.7.2)\n",
      "Requirement already satisfied: werkzeug>=1.0.1 in c:\\users\\user\\appdata\\local\\programs\\python\\python311\\lib\\site-packages (from tensorboard<2.16,>=2.15->tensorflow-intel==2.15.0->tensorflow) (3.0.1)\n",
      "Requirement already satisfied: cachetools<6.0,>=2.0.0 in c:\\users\\user\\appdata\\local\\programs\\python\\python311\\lib\\site-packages (from google-auth<3,>=1.6.3->tensorboard<2.16,>=2.15->tensorflow-intel==2.15.0->tensorflow) (5.3.2)\n",
      "Requirement already satisfied: pyasn1-modules>=0.2.1 in c:\\users\\user\\appdata\\local\\programs\\python\\python311\\lib\\site-packages (from google-auth<3,>=1.6.3->tensorboard<2.16,>=2.15->tensorflow-intel==2.15.0->tensorflow) (0.3.0)\n",
      "Requirement already satisfied: rsa<5,>=3.1.4 in c:\\users\\user\\appdata\\local\\programs\\python\\python311\\lib\\site-packages (from google-auth<3,>=1.6.3->tensorboard<2.16,>=2.15->tensorflow-intel==2.15.0->tensorflow) (4.9)\n",
      "Requirement already satisfied: requests-oauthlib>=0.7.0 in c:\\users\\user\\appdata\\local\\programs\\python\\python311\\lib\\site-packages (from google-auth-oauthlib<2,>=0.5->tensorboard<2.16,>=2.15->tensorflow-intel==2.15.0->tensorflow) (1.3.1)\n",
      "Requirement already satisfied: charset-normalizer<4,>=2 in c:\\users\\user\\appdata\\local\\programs\\python\\python311\\lib\\site-packages (from requests<3,>=2.21.0->tensorboard<2.16,>=2.15->tensorflow-intel==2.15.0->tensorflow) (3.3.2)\n",
      "Requirement already satisfied: idna<4,>=2.5 in c:\\users\\user\\appdata\\local\\programs\\python\\python311\\lib\\site-packages (from requests<3,>=2.21.0->tensorboard<2.16,>=2.15->tensorflow-intel==2.15.0->tensorflow) (3.6)\n",
      "Requirement already satisfied: urllib3<3,>=1.21.1 in c:\\users\\user\\appdata\\local\\programs\\python\\python311\\lib\\site-packages (from requests<3,>=2.21.0->tensorboard<2.16,>=2.15->tensorflow-intel==2.15.0->tensorflow) (2.1.0)\n",
      "Requirement already satisfied: certifi>=2017.4.17 in c:\\users\\user\\appdata\\local\\programs\\python\\python311\\lib\\site-packages (from requests<3,>=2.21.0->tensorboard<2.16,>=2.15->tensorflow-intel==2.15.0->tensorflow) (2023.11.17)\n",
      "Requirement already satisfied: MarkupSafe>=2.1.1 in c:\\users\\user\\appdata\\local\\programs\\python\\python311\\lib\\site-packages (from werkzeug>=1.0.1->tensorboard<2.16,>=2.15->tensorflow-intel==2.15.0->tensorflow) (2.1.3)\n",
      "Requirement already satisfied: pyasn1<0.6.0,>=0.4.6 in c:\\users\\user\\appdata\\local\\programs\\python\\python311\\lib\\site-packages (from pyasn1-modules>=0.2.1->google-auth<3,>=1.6.3->tensorboard<2.16,>=2.15->tensorflow-intel==2.15.0->tensorflow) (0.5.1)\n",
      "Requirement already satisfied: oauthlib>=3.0.0 in c:\\users\\user\\appdata\\local\\programs\\python\\python311\\lib\\site-packages (from requests-oauthlib>=0.7.0->google-auth-oauthlib<2,>=0.5->tensorboard<2.16,>=2.15->tensorflow-intel==2.15.0->tensorflow) (3.2.2)\n",
      "Requirement already satisfied: scikit-learn in c:\\users\\user\\appdata\\local\\programs\\python\\python311\\lib\\site-packages (1.3.2)\n",
      "Requirement already satisfied: numpy<2.0,>=1.17.3 in c:\\users\\user\\appdata\\local\\programs\\python\\python311\\lib\\site-packages (from scikit-learn) (1.26.3)\n",
      "Requirement already satisfied: scipy>=1.5.0 in c:\\users\\user\\appdata\\local\\programs\\python\\python311\\lib\\site-packages (from scikit-learn) (1.11.4)\n",
      "Requirement already satisfied: joblib>=1.1.1 in c:\\users\\user\\appdata\\local\\programs\\python\\python311\\lib\\site-packages (from scikit-learn) (1.3.2)\n",
      "Requirement already satisfied: threadpoolctl>=2.0.0 in c:\\users\\user\\appdata\\local\\programs\\python\\python311\\lib\\site-packages (from scikit-learn) (3.2.0)\n"
     ]
    }
   ],
   "source": [
    "!pip install -U pandas\n",
    "!pip install -U numpy\n",
    "!pip install -U scipy\n",
    "!pip install -U tensorflow\n",
    "!pip install -U scikit-learn"
   ]
  },
  {
   "cell_type": "code",
   "execution_count": 2,
   "metadata": {},
   "outputs": [
    {
     "name": "stdout",
     "output_type": "stream",
     "text": [
      "WARNING:tensorflow:From c:\\Users\\User\\AppData\\Local\\Programs\\Python\\Python311\\Lib\\site-packages\\keras\\src\\losses.py:2976: The name tf.losses.sparse_softmax_cross_entropy is deprecated. Please use tf.compat.v1.losses.sparse_softmax_cross_entropy instead.\n",
      "\n"
     ]
    }
   ],
   "source": [
    "import pandas as pd\n",
    "import numpy as np\n",
    "import scipy as sp\n",
    "import matplotlib.pyplot as plt\n",
    "import sklearn\n",
    "import tensorflow as tf"
   ]
  },
  {
   "cell_type": "markdown",
   "metadata": {},
   "source": [
    "### 1st Part"
   ]
  },
  {
   "cell_type": "markdown",
   "metadata": {},
   "source": [
    "First We Prepare the train and test data and create a binary representation of it."
   ]
  },
  {
   "cell_type": "code",
   "execution_count": 3,
   "metadata": {},
   "outputs": [
    {
     "name": "stdout",
     "output_type": "stream",
     "text": [
      "Vocabulary size: 3834\n"
     ]
    }
   ],
   "source": [
    "from sklearn.feature_extraction.text import CountVectorizer\n",
    "\n",
    "(x_train_imdb, y_train), (x_test_imdb, y_test) = tf.keras.datasets.imdb.load_data()\n",
    "\n",
    "\n",
    "# x_train_imdb, y_train_imdb = temp_x_train_imdb[:split_index], y_train[:split_index]\n",
    "# x_dev_imdb, y_dev_imdb = temp_x_train_imdb[split_index:], y_train[split_index:]\n",
    "\n",
    "word_index = tf.keras.datasets.imdb.get_word_index()\n",
    "index2word = dict((i + 3, word) for (word, i) in word_index.items())\n",
    "index2word[0] = '[pad]'\n",
    "index2word[1] = '[bos]'\n",
    "index2word[2] = '[oov]'\n",
    "x_train_imdb = np.array([' '.join([index2word[idx] for idx in text]) for text in x_train_imdb])\n",
    "x_test_imdb = np.array([' '.join([index2word[idx] for idx in text]) for text in x_test_imdb])\n",
    "\n",
    "binary_vectorizer = CountVectorizer(binary=True, min_df=100)\n",
    "x_train = binary_vectorizer.fit_transform(x_train_imdb)\n",
    "x_test = binary_vectorizer.transform(x_test_imdb)\n",
    "print(\n",
    "    'Vocabulary size:', len(binary_vectorizer.vocabulary_)\n",
    ")\n",
    "x_train = x_train.astype(int)\n",
    "x_test = x_test.astype(int)\n",
    "# print(x_train.shape)\n",
    "\n"
   ]
  },
  {
   "cell_type": "markdown",
   "metadata": {},
   "source": [
    "#### Logistic Regression:\n"
   ]
  },
  {
   "cell_type": "code",
   "execution_count": 55,
   "metadata": {},
   "outputs": [],
   "source": [
    "from sklearn.metrics import accuracy_score, precision_score, recall_score, f1_score\n",
    "from scipy.sparse import issparse\n",
    "\n",
    "class LogisticRegression():\n",
    "   \n",
    "\n",
    "    def __init__(self,epochs=20,learning_rate=0.001,threshold=0.5, regularization_factor=1):\n",
    "        self.epochs=epochs;\n",
    "        self.learning_rate=learning_rate\n",
    "        self.weights = np.array([])\n",
    "        self.threshold=threshold\n",
    "        self.regularization_factor = regularization_factor\n",
    "        \n",
    "    \n",
    "    def set_threshold(self,value):\n",
    "        self.threshold = value\n",
    "    def sigmoid(self , t):\n",
    "        return 1/(1+np.exp(-t))\n",
    "\n",
    "\n",
    "    def fit(self,x_train_input,y_train_input):\n",
    "        ''' '''\n",
    "        feature_vector_length = x_train_input.shape[1]\n",
    "        split_index = int(0.8 * x_train_input.shape[0])  # 80% for training, 20% for dev\n",
    "        x_train, y_train = x_train_input[:split_index], y_train_input[:split_index]\n",
    "        x_dev, y_dev= x_train_input[split_index:], y_train_input[split_index:]\n",
    "        x_dev = x_dev.toarray()\n",
    "\n",
    "        x_train = x_train.toarray()\n",
    "        ones_column = np.ones(x_train.shape[0])\n",
    "        x_train = np.insert(x_train, 0, ones_column, axis=1)\n",
    "        self.weights = self.initialize_weights(feature_vector_length)\n",
    "        \n",
    "        for epoch in range(self.epochs):\n",
    "            for i in range(x_train.shape[0]):\n",
    "                x_i = x_train[i-1]\n",
    "                y_i = y_train[i-1]\n",
    "\n",
    "                self.update_weights(x_i,y_i)\n",
    "        y_dev_predicted = self.predict(x_dev)\n",
    "        return self.evaluate(y_dev_predicted, y_dev)\n",
    "\n",
    "\n",
    "        \n",
    "    \n",
    "    def predict(self, x_test):\n",
    "        \n",
    "        features_length = x_test.shape[1]\n",
    "        if issparse(x_test):\n",
    "            x_test = x_test.toarray()\n",
    "        ones_column = np.ones(x_test.shape[0])\n",
    "        x_test = np.insert(x_test, 0, ones_column, axis=1)#insert 1 in x_vector for w0\n",
    "\n",
    "        y_test_predicted = []\n",
    "\n",
    "\n",
    "        for test_case in x_test:\n",
    "            probability_positive =  self.sigmoid(np.dot(self.weights,test_case))\n",
    "            predicted_class = 1 if probability_positive >= self.threshold else 0\n",
    "            y_test_predicted.append(predicted_class)\n",
    "        return np.array(y_test_predicted)\n",
    "\n",
    "\n",
    "\n",
    "    @staticmethod\n",
    "    def initialize_weights(size):\n",
    "        '''We Initialize the weights with random values with a mean of 0 and a standard deviation of 0.01\n",
    "          This is a common practice to prevent the weights from being too large at the begining '''\n",
    "        return np.random.randn(size+1) * 0.01\n",
    "\n",
    "    def update_weights(self,x_test,y_test):\n",
    "        predicted_prob = self.sigmoid(np.dot(self.weights,x_test))\n",
    "        gradient = ((y_test - predicted_prob) * x_test)\n",
    "        self.weights += self.learning_rate * gradient \n",
    "    \n",
    "    def evaluate(self, y_true, y_predicted):\n",
    "        accuracy = accuracy_score(y_true, y_predicted)\n",
    "        print(\"Accuracy:\", accuracy)\n",
    "\n",
    "        precision = precision_score(y_true, y_predicted)\n",
    "        print(\"Precision:\", precision)\n",
    "\n",
    "        # Compute recall\n",
    "        recall = recall_score(y_true, y_predicted)\n",
    "        print(\"Recall:\", recall)\n",
    "\n",
    "        # Compute F1 score\n",
    "        f1 = f1_score(y_true, y_predicted)\n",
    "        print(\"F1 Score:\", f1)\n",
    "        print(\"Threshold: \"+str(self.threshold))\n",
    "        return np.array([precision,recall])\n",
    "    \n",
    "\n",
    "    def generate_pr_curve(self, x_train_input,y_train_input,size=20):\n",
    "        currentThreshold = 0\n",
    "        percisions=[]\n",
    "        recalls=[]\n",
    "        for i in range(size):\n",
    "            currentThreshold += 1./size\n",
    "            if (currentThreshold>0.3 and currentThreshold<0.75):\n",
    "                self.set_threshold(currentThreshold)\n",
    "                fit_pr = self.fit(x_train_input , y_train_input)\n",
    "                percisions.append(fit_pr[0])\n",
    "                recalls.append(fit_pr[1])\n",
    "        print(percisions)\n",
    "        plt.plot(recalls,percisions ,label='Precision-Recall Curve')\n",
    "        plt.xlabel('Recall')\n",
    "        plt.ylabel('Precision')\n",
    "        plt.title('Precision-Recall Diagram')\n",
    "        plt.legend()\n",
    "        plt.show()\n"
   ]
  },
  {
   "cell_type": "markdown",
   "metadata": {},
   "source": [
    "#### Results\n",
    "Here we try out the Logistic Regression learning algorithm"
   ]
  },
  {
   "cell_type": "code",
   "execution_count": 63,
   "metadata": {},
   "outputs": [
    {
     "name": "stdout",
     "output_type": "stream",
     "text": [
      "(20000,)\n",
      "Accuracy: 0.8774\n",
      "Precision: 0.8813284730660186\n",
      "Recall: 0.8717948717948718\n",
      "F1 Score: 0.8765357502517622\n",
      "Threshold: 0.5\n",
      "Accuracy: 0.8712\n",
      "Precision: 0.8669144393484106\n",
      "Recall: 0.87704\n",
      "F1 Score: 0.8719478247037303\n",
      "Threshold: 0.5\n"
     ]
    },
    {
     "data": {
      "text/plain": [
       "array([0.86691444, 0.87704   ])"
      ]
     },
     "execution_count": 63,
     "metadata": {},
     "output_type": "execute_result"
    }
   ],
   "source": [
    "LogReg = LogisticRegression(100,threshold=0.5, regularization_factor=0.01)\n",
    "LogReg.fit(x_train,y_train)\n",
    "y_predicted = LogReg.predict(x_test)\n",
    "# fit(x_train,y_train)\n",
    " \n",
    "# y_predicted = LogReg.predict(x_test)\n",
    "\n",
    "LogReg.evaluate(y_test,y_predicted)"
   ]
  },
  {
   "cell_type": "markdown",
   "metadata": {},
   "source": [
    "#### Naive Bayes:"
   ]
  },
  {
   "cell_type": "code",
   "execution_count": 7,
   "metadata": {},
   "outputs": [],
   "source": [
    "import numpy as np\n",
    "from sklearn.metrics import accuracy_score, precision_score, recall_score, f1_score, confusion_matrix\n",
    "#from scipy.sparse import isspars\n",
    "\n",
    "class NaiveBayes: \n",
    "    def __init__(self):\n",
    "            self.probabilityC1= None #probabilityC0 = 1 -probabilityC1\n",
    "            self.boundProbabilityC0 = None \n",
    "            self.boundProbabilityC1 = None\n",
    "\n",
    "    def fit(self, x_train_input, y_train_input): \n",
    "        split_index = int(0.8 * x_train_input.shape[0])  # 80% for training, 20% for dev\n",
    "        x_train, y_train = x_train_input[:split_index], y_train_input[:split_index]\n",
    "        x_dev, y_dev= x_train_input[split_index:], y_train_input[split_index:]\n",
    "\n",
    "        numberOfExamples = x_train.shape[0]\n",
    "        numberOfFeatures = x_train.shape[1]\n",
    "        x_train = x_train.toarray()\n",
    "        #y_train = y_train.flatten()\n",
    "\n",
    "        positiveReviews = 0\n",
    "        for label in y_train: \n",
    "            if label == 1: \n",
    "                positiveReviews += 1 \n",
    "\n",
    "        self.probabilityC1 = positiveReviews / len(y_train)\n",
    "\n",
    "        '''\n",
    "        C0: P( X(i) = 0 | C = 0) and C1 = P ( X(i) = 0 | C = 1)\n",
    "        P( X(i) = 1 | C = 0) = 1 - P( X(i) = 0 | C = 0) and P( X(i) = 1 | C = 1) = P( X(i) = 0 | C = 1)\n",
    "        '''\n",
    "        self.boundProbabilityC0 = np.zeros(numberOfFeatures)  \n",
    "        self.boundProbabilityC1 = np.zeros(numberOfFeatures)\n",
    "        for i in range(numberOfFeatures): \n",
    "\n",
    "            #For every word that is not on a review add to the array correspnding to the review result of the example \n",
    "            for j in range(numberOfExamples):  \n",
    "                if y_train[j] == 0 and x_train[j][i] == 0: \n",
    "                    self.boundProbabilityC0[i] += 1 \n",
    "                elif y_train[j] == 1 and x_train[j][i] == 0: \n",
    "                    self.boundProbabilityC1[i] += 1 \n",
    "        \"\"\"\n",
    "        Adding Laplace estimator with an alpha value of 1 \n",
    "        \"\"\"\n",
    "        self.boundProbabilityC0 = [x + 1 / (numberOfExamples - positiveReviews + x) for x in self.boundProbabilityC0] \n",
    "        self.boundProbabilityC1 = [x + 1 / (positiveReviews+ x) for x in self.boundProbabilityC1]\n",
    "\n",
    "    def predict(self, x_test, y_test):\n",
    "        prediction = list()\n",
    "        c1 = self.boundProbabilityC1\n",
    "        c0 = self.boundProbabilityC0\n",
    "        numberOfFeatures = x_test.shape[1]\n",
    "        x_test = x_test.toarray()\n",
    "\n",
    "        for x in range(x_test.shape[0]): \n",
    "            positiveReviewProbability = self.probabilityC1 \n",
    "            negativeReviewProbability = (1 - self.probabilityC1)\n",
    "\n",
    "            for y in range(numberOfFeatures):\n",
    "                if x_test[x][y] == 0 and y_test[x] == 0: \n",
    "                    negativeReviewProbability = round(negativeReviewProbability * self.boundProbabilityC0[y], 2)\n",
    "                elif  x_test[x][y] == 1 and y_test[x] == 0: \n",
    "                    negativeReviewProbability = round(negativeReviewProbability * (1 - self.boundProbabilityC0[y]), 2)\n",
    "                elif  x_test[x][y] == 0 and y_test[x] == 1:\n",
    "                    positiveReviewProbability = round(positiveReviewProbability * self.boundProbabilityC1[y], 2)\n",
    "                elif  x_test[x][y] == 1 and y_test[x] == 1:\n",
    "                    positiveReviewProbability = round(positiveReviewProbability * (1 - self.boundProbabilityC1[y]), 2)\n",
    "\n",
    "            if positiveReviewProbability > negativeReviewProbability: \n",
    "                prediction.append(1)\n",
    "            elif negativeReviewProbability > positiveReviewProbability:\n",
    "                prediction.append(0)\n",
    "\n",
    "        return np.array(prediction)\n",
    "    \n",
    "    def evaluate(self, y_true, y_predicted):\n",
    "        accuracy = accuracy_score(y_true, y_predicted)\n",
    "        print(\"Accuracy:\", accuracy)\n",
    "\n",
    "        precision = precision_score(y_true, y_predicted)\n",
    "        print(\"Precision:\", precision)\n",
    "\n",
    "        # Compute recall\n",
    "        recall = recall_score(y_true, y_predicted)\n",
    "        print(\"Recall:\", recall)\n",
    "\n",
    "        # Compute F1 score\n",
    "        f1 = f1_score(y_true, y_predicted)\n",
    "        print(\"F1 Score:\", f1)\n",
    "        #print(\"Threshold: \"+str(self.threshold))\n",
    "        return np.array([precision,recall])\n",
    "    \n",
    "\n",
    "    \n"
   ]
  },
  {
   "cell_type": "markdown",
   "metadata": {},
   "source": []
  },
  {
   "cell_type": "code",
   "execution_count": 8,
   "metadata": {},
   "outputs": [
    {
     "name": "stderr",
     "output_type": "stream",
     "text": [
      "C:\\Users\\User\\AppData\\Local\\Temp\\ipykernel_12616\\3336605343.py:61: RuntimeWarning: overflow encountered in multiply\n",
      "  negativeReviewProbability = round(negativeReviewProbability * self.boundProbabilityC0[y], 2)\n",
      "C:\\Users\\User\\AppData\\Local\\Temp\\ipykernel_12616\\3336605343.py:65: RuntimeWarning: overflow encountered in multiply\n",
      "  positiveReviewProbability = round(positiveReviewProbability * self.boundProbabilityC1[y], 2)\n",
      "C:\\Users\\User\\AppData\\Local\\Temp\\ipykernel_12616\\3336605343.py:63: RuntimeWarning: overflow encountered in multiply\n",
      "  negativeReviewProbability = round(negativeReviewProbability * (1 - self.boundProbabilityC0[y]), 2)\n",
      "C:\\Users\\User\\AppData\\Local\\Temp\\ipykernel_12616\\3336605343.py:67: RuntimeWarning: overflow encountered in multiply\n",
      "  positiveReviewProbability = round(positiveReviewProbability * (1 - self.boundProbabilityC1[y]), 2)\n"
     ]
    },
    {
     "name": "stdout",
     "output_type": "stream",
     "text": [
      "Accuracy: 0.49596\n",
      "Precision: 0.4960075895327694\n",
      "Recall: 0.50192\n",
      "F1 Score: 0.4989462801701857\n"
     ]
    },
    {
     "data": {
      "text/plain": [
       "array([0.49600759, 0.50192   ])"
      ]
     },
     "execution_count": 8,
     "metadata": {},
     "output_type": "execute_result"
    }
   ],
   "source": [
    "NB = NaiveBayes()\n",
    "NB.fit(x_train,y_train)\n",
    "y_predicted = NB.predict(x_test, y_test)\n",
    "# fit(x_train,y_train)\n",
    " \n",
    "# y_predicted = LogReg.predict(x_test)\n",
    "\n",
    "NB.evaluate(y_test,y_predicted)"
   ]
  },
  {
   "cell_type": "markdown",
   "metadata": {},
   "source": [
    "\n",
    "### [AdaBoost](Machine-Learning-Algorithms/AdaBoost.py)"
   ]
  },
  {
   "cell_type": "code",
   "execution_count": 51,
   "metadata": {},
   "outputs": [],
   "source": [
    "import numpy as np\n",
    "import random as random\n",
    "from sklearn.metrics import accuracy_score, precision_score, recall_score, f1_score\n",
    "from sklearn.utils import shuffle\n",
    "\n",
    "class AdaBoost:\n",
    "    def __init__(self, learning_rate=1.0):\n",
    "        self.M = None\n",
    "        self.models = []\n",
    "        self.weights = []\n",
    "        self.learning_rate = learning_rate\n",
    "    \n",
    "    def fit (self, x_train_input, y_train_input, M):\n",
    "        split_index = int(0.8 * x_train_input.shape[0])  # 80% for training, 20% for dev\n",
    "        x_train, y_train = x_train_input[:split_index], y_train_input[:split_index]\n",
    "        x_dev, y_dev= x_train_input[split_index:], y_train_input[split_index:]\n",
    "        x_train = x_train.toarray()\n",
    "    \n",
    "        self.M = M\n",
    "        # first all samples get the same weight, 1/total number of examples\n",
    "        # that makes the samples all equally important\n",
    "        sample_weights = np.ones(x_train.shape[0]) * (1 / x_train.shape[0])\n",
    "        for m in range(M):\n",
    "            x_train, y_train = shuffle(x_train, y_train, random_state=m)\n",
    "\n",
    "            stump = CreateStump()\n",
    "            x_train, y_train = stump.fit( x_train, y_train, sample_weights)\n",
    "            sample_weights = stump.weights\n",
    "            self.models.append(stump)\n",
    "            self.weights.extend([self.learning_rate * w for w in sample_weights])  # Accumulate weights\n",
    "           \n",
    "        y_dev_predicted = self.predict(x_dev)\n",
    "        return self.evaluate(y_dev,y_dev_predicted)\n",
    "\n",
    "    def predict(self, x_test):\n",
    "        x_test = x_test.toarray()\n",
    "        \n",
    "        predictions = np.zeros(x_test.shape[0])\n",
    "        stump_says = np.zeros(len(self.models))\n",
    "\n",
    "        for i, stump in enumerate(self.models):\n",
    "            # Get predictions from each stump\n",
    "            stump_pred = stump.predict(x_test)\n",
    "            stump_says[i] = stump.amountOfSay\n",
    "            # Update overall predictions based on the stump's amount of say\n",
    "            predictions += stump_pred * stump_says[i]\n",
    "\n",
    "        # Final prediction is based on the sign of the weighted sum\n",
    "        final_predictions = np.sign(predictions)\n",
    "\n",
    "        return final_predictions\n",
    "    \n",
    "    def evaluate(self, y_true, y_predicted):\n",
    "        # Handle NaN values, replace them with 0\n",
    "        nan_indices1 = np.isnan(y_true)\n",
    "        if np.any(nan_indices1):\n",
    "            y_true = np.nan_to_num(y_true)\n",
    "        nan_indices2 = np.isnan(y_predicted)\n",
    "        if np.any(nan_indices2):\n",
    "            y_predicted = np.nan_to_num(y_predicted)\n",
    "\n",
    "        accuracy = accuracy_score(y_true, y_predicted)\n",
    "        print(\"Accuracy:\", accuracy)\n",
    "\n",
    "        precision = precision_score(y_true, y_predicted)\n",
    "        print(\"Precision:\", precision)\n",
    "\n",
    "        # Compute recall\n",
    "        recall = recall_score(y_true, y_predicted)\n",
    "        print(\"Recall:\", recall)\n",
    "\n",
    "        # Compute F1 score\n",
    "        f1 = f1_score(y_true, y_predicted)\n",
    "        print(\"F1 Score:\", f1)\n",
    "\n",
    "\n",
    "class CreateStump:\n",
    "    def __init__(self):\n",
    "        self.amountOfSay = None\n",
    "        self.word = None\n",
    "        self.weights = []\n",
    "\n",
    "    def fit(self, x, y, w):\n",
    "        n = x.shape[1]\n",
    "        m = x.shape[0]\n",
    "\n",
    "        best_amount_of_say = None\n",
    "        best_word = None\n",
    "        best_error = float('inf')\n",
    "        for word_index in range(n):           \n",
    "            # Vectorized calculations\n",
    "            incorrect_mask = x[:, word_index] != y\n",
    "\n",
    "            # Calculate weighted error\n",
    "            total_error = np.sum(w[incorrect_mask])\n",
    "\n",
    "            # Choose the word that minimizes the weighted error\n",
    "            if total_error < best_error:\n",
    "                best_amount_of_say = 0.5 * np.log((1 - total_error) / (total_error + 1e-10))\n",
    "                best_word = word_index\n",
    "                best_error = total_error\n",
    "        self.amountOfSay = best_amount_of_say\n",
    "        self.word = best_word\n",
    "        # Update weights\n",
    "        incorrect_mask = x[:, self.word] != y\n",
    "        w[incorrect_mask] *= np.exp(self.amountOfSay)\n",
    "        w[~incorrect_mask] *= np.exp(-self.amountOfSay)\n",
    "\n",
    "        # normalize the weights so they all add up to 1\n",
    "        self.weights = w / np.sum(w)\n",
    "        indices = np.random.choice(np.arange(m), size=m, p=self.weights)\n",
    "        return x[indices], y[indices] \n",
    "\n",
    "    def predict(self, x_test):\n",
    "        # Make predictions using the chosen word index\n",
    "        # Convert predictions to binary (0 or 1)\n",
    "        stump_pred_binary = x_test[:, self.word] >= 0.5\n",
    "        return stump_pred_binary"
   ]
  },
  {
   "cell_type": "markdown",
   "metadata": {},
   "source": [
    "#### Results:"
   ]
  },
  {
   "cell_type": "code",
   "execution_count": 54,
   "metadata": {},
   "outputs": [
    {
     "name": "stdout",
     "output_type": "stream",
     "text": [
      "Accuracy: 0.4938\n",
      "Precision: 0.4938\n",
      "Recall: 1.0\n",
      "F1 Score: 0.6611326817512385\n",
      "Accuracy: 0.5\n",
      "Precision: 0.5\n",
      "Recall: 1.0\n",
      "F1 Score: 0.6666666666666666\n"
     ]
    }
   ],
   "source": [
    "AB = AdaBoost()\n",
    "AB.fit(x_train,y_train,10)\n",
    "\n",
    "y_predicted = AB.predict(x_test)\n",
    "\n",
    "AB.evaluate(y_test,y_predicted)"
   ]
  }
 ],
 "metadata": {
  "kernelspec": {
   "display_name": "Python 3",
   "language": "python",
   "name": "python3"
  },
  "language_info": {
   "codemirror_mode": {
    "name": "ipython",
    "version": 3
   },
   "file_extension": ".py",
   "mimetype": "text/x-python",
   "name": "python",
   "nbconvert_exporter": "python",
   "pygments_lexer": "ipython3",
   "version": "3.11.0"
  }
 },
 "nbformat": 4,
 "nbformat_minor": 2
}
