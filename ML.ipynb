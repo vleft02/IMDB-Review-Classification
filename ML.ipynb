{
 "cells": [
  {
   "cell_type": "markdown",
   "metadata": {},
   "source": [
    "## IMDB review sentiment Analysis\n"
   ]
  },
  {
   "cell_type": "markdown",
   "metadata": {},
   "source": [
    "#### Μέλη Ομάδας:\n",
    "- Ευάγγελος Λευτάκης : 3200093\n",
    "- Ρέα Σκλήκα : 3210181\n",
    "- Σοφία-Ζωή Σωτηρίου : 3210192"
   ]
  },
  {
   "cell_type": "markdown",
   "metadata": {},
   "source": [
    "### Dependencies"
   ]
  },
  {
   "cell_type": "code",
   "execution_count": 13,
   "metadata": {},
   "outputs": [
    {
     "name": "stdout",
     "output_type": "stream",
     "text": [
      "Requirement already satisfied: matplotlib in c:\\users\\vleft\\appdata\\roaming\\python\\python310\\site-packages (3.8.2)\n",
      "Requirement already satisfied: contourpy>=1.0.1 in c:\\users\\vleft\\appdata\\local\\programs\\python\\python310\\lib\\site-packages (from matplotlib) (1.1.1)\n",
      "Requirement already satisfied: kiwisolver>=1.3.1 in c:\\users\\vleft\\appdata\\local\\programs\\python\\python310\\lib\\site-packages (from matplotlib) (1.4.5)\n",
      "Requirement already satisfied: cycler>=0.10 in c:\\users\\vleft\\appdata\\local\\programs\\python\\python310\\lib\\site-packages (from matplotlib) (0.12.1)\n",
      "Requirement already satisfied: packaging>=20.0 in c:\\users\\vleft\\appdata\\local\\programs\\python\\python310\\lib\\site-packages (from matplotlib) (23.2)\n",
      "Requirement already satisfied: python-dateutil>=2.7 in c:\\users\\vleft\\appdata\\local\\programs\\python\\python310\\lib\\site-packages (from matplotlib) (2.8.2)\n",
      "Requirement already satisfied: pillow>=8 in c:\\users\\vleft\\appdata\\local\\programs\\python\\python310\\lib\\site-packages (from matplotlib) (10.1.0)\n",
      "Requirement already satisfied: numpy<2,>=1.21 in c:\\users\\vleft\\appdata\\local\\programs\\python\\python310\\lib\\site-packages (from matplotlib) (1.24.3)\n",
      "Requirement already satisfied: fonttools>=4.22.0 in c:\\users\\vleft\\appdata\\local\\programs\\python\\python310\\lib\\site-packages (from matplotlib) (4.46.0)\n",
      "Requirement already satisfied: pyparsing>=2.3.1 in c:\\users\\vleft\\appdata\\local\\programs\\python\\python310\\lib\\site-packages (from matplotlib) (3.1.1)\n",
      "Requirement already satisfied: six>=1.5 in c:\\users\\vleft\\appdata\\local\\programs\\python\\python310\\lib\\site-packages (from python-dateutil>=2.7->matplotlib) (1.16.0)\n"
     ]
    },
    {
     "name": "stderr",
     "output_type": "stream",
     "text": [
      "WARNING: Ignoring invalid distribution -atplotlib (c:\\users\\vleft\\appdata\\local\\programs\\python\\python310\\lib\\site-packages)\n",
      "WARNING: Ignoring invalid distribution -atplotlib (c:\\users\\vleft\\appdata\\local\\programs\\python\\python310\\lib\\site-packages)\n",
      "WARNING: Ignoring invalid distribution -atplotlib (c:\\users\\vleft\\appdata\\local\\programs\\python\\python310\\lib\\site-packages)\n",
      "WARNING: Ignoring invalid distribution -atplotlib (c:\\users\\vleft\\appdata\\local\\programs\\python\\python310\\lib\\site-packages)\n",
      "WARNING: Ignoring invalid distribution -atplotlib (c:\\users\\vleft\\appdata\\local\\programs\\python\\python310\\lib\\site-packages)\n",
      "WARNING: Ignoring invalid distribution -atplotlib (c:\\users\\vleft\\appdata\\local\\programs\\python\\python310\\lib\\site-packages)\n",
      "\n",
      "[notice] A new release of pip available: 22.2.1 -> 23.3.2\n",
      "[notice] To update, run: python.exe -m pip install --upgrade pip\n"
     ]
    }
   ],
   "source": [
    "!pip install -U matplotlib\n"
   ]
  },
  {
   "cell_type": "code",
   "execution_count": 1,
   "metadata": {},
   "outputs": [],
   "source": [
    "import pandas as pd\n",
    "import numpy as np\n",
    "import scipy as sp\n",
    "import matplotlib.pyplot as plt\n",
    "import tensorflow as tf\n",
    "import sklearn"
   ]
  },
  {
   "cell_type": "markdown",
   "metadata": {},
   "source": [
    "### 1st Part"
   ]
  },
  {
   "cell_type": "markdown",
   "metadata": {},
   "source": [
    "First We Prepare the train and test data and create a binary representation of it."
   ]
  },
  {
   "cell_type": "code",
   "execution_count": 2,
   "metadata": {},
   "outputs": [
    {
     "name": "stdout",
     "output_type": "stream",
     "text": [
      "Vocabulary size: 3563\n"
     ]
    }
   ],
   "source": [
    "from sklearn.feature_extraction.text import CountVectorizer\n",
    "\n",
    "(x_train_imdb, y_train), (x_test_imdb, y_test) = tf.keras.datasets.imdb.load_data()\n",
    "\n",
    "\n",
    "word_index = tf.keras.datasets.imdb.get_word_index()\n",
    "index2word = dict((i + 3, word) for (word, i) in word_index.items())\n",
    "index2word[0] = '[pad]'\n",
    "index2word[1] = '[bos]'\n",
    "index2word[2] = '[oov]'\n",
    "x_train_imdb = np.array([' '.join([index2word[idx] for idx in text]) for text in x_train_imdb])\n",
    "x_test_imdb = np.array([' '.join([index2word[idx] for idx in text]) for text in x_test_imdb])\n",
    "\n",
    "binary_vectorizer = CountVectorizer(binary=True, min_df=100,stop_words=\"english\")\n",
    "x_train = binary_vectorizer.fit_transform(x_train_imdb)\n",
    "x_test = binary_vectorizer.transform(x_test_imdb)\n",
    "print(\n",
    "    'Vocabulary size:', len(binary_vectorizer.vocabulary_)\n",
    ")\n",
    "x_train = x_train.astype(int)\n",
    "x_test = x_test.astype(int)\n",
    "\n",
    "# x_train = x_train.toarray()\n",
    "# x_test = x_test.toarray()\n",
    "\n"
   ]
  },
  {
   "cell_type": "markdown",
   "metadata": {},
   "source": [
    "#### Logistic Regression:\n"
   ]
  },
  {
   "cell_type": "code",
   "execution_count": 40,
   "metadata": {},
   "outputs": [],
   "source": [
    "from sklearn.metrics import accuracy_score, precision_score, recall_score, f1_score\n",
    "from scipy.sparse import issparse\n",
    "from sklearn.metrics import classification_report\n",
    "\n",
    "class LogisticRegression():\n",
    "   \n",
    "\n",
    "    def __init__(self,epochs=20,learning_rate=0.001,threshold=0.5, regularization_factor=1):\n",
    "        self.epochs=epochs;\n",
    "        self.learning_rate=learning_rate\n",
    "        self.weights = np.array([])\n",
    "        self.threshold=threshold\n",
    "        self.regularization_factor = regularization_factor\n",
    "        \n",
    "    \n",
    "    def set_threshold(self,value):\n",
    "        self.threshold = value\n",
    "    def sigmoid(self , t):\n",
    "        return 1/(1+np.exp(-t))\n",
    "\n",
    "\n",
    "    def fit(self,x_train_input,y_train_input):\n",
    "        ''' '''\n",
    "        feature_vector_length = x_train_input.shape[1]\n",
    "        split_index = int(0.8 * x_train_input.shape[0])  # 80% for training, 20% for dev\n",
    "        x_train, y_train = x_train_input[:split_index], y_train_input[:split_index]\n",
    "        x_dev, y_dev= x_train_input[split_index:], y_train_input[split_index:]\n",
    "        x_dev = x_dev.toarray()\n",
    "\n",
    "        # We prepare the array by adding a column of 1s\n",
    "        # for the w0 weight\n",
    "        x_train = x_train.toarray()\n",
    "        ones_column = np.ones(x_train.shape[0])\n",
    "        x_train = np.insert(x_train, 0, ones_column, axis=1)\n",
    "        self.weights = self.initialize_weights(feature_vector_length)\n",
    "        # We prepare the extra data used\n",
    "        best_f1_score = 0\n",
    "        epochs_without_improvement = 0\n",
    "        for epoch in range(self.epochs):\n",
    "            # np.random.shuffle(x_train)\n",
    "            for i in range(x_train.shape[0]):\n",
    "                x_i = x_train[i-1]\n",
    "                y_i = y_train[i-1]\n",
    "\n",
    "                self.update_weights(x_i,y_i)\n",
    "                \n",
    "            f1 = f1_score(y_dev, self.predict(x_dev))\n",
    "            \n",
    "            if f1 > best_f1_score:\n",
    "                best_f1_score = f1\n",
    "                # best_epoch = epoch\n",
    "                epochs_without_improvement = 0\n",
    "            else:\n",
    "                epochs_without_improvement += 1\n",
    "                if epochs_without_improvement >= 20 :\n",
    "                    break\n",
    "       \n",
    "        x_train = np.delete(x_train, 0, axis=1)                 #remove 1s column again (needed previously for w0)\n",
    "\n",
    "        return self.evaluate(y_train,self.predict(x_train))\n",
    "\n",
    "\n",
    "        \n",
    "    \n",
    "    def predict(self, x_test):\n",
    "        if issparse(x_test):\n",
    "            x_test = x_test.toarray()\n",
    "        ones_column = np.ones(x_test.shape[0])\n",
    "        x_test = np.insert(x_test, 0, ones_column, axis=1)#insert 1 in x_vector for w0\n",
    "\n",
    "        y_test_predicted = []\n",
    "\n",
    "        for test_case in x_test:\n",
    "            probability_positive =  self.sigmoid(np.dot(self.weights,test_case))\n",
    "            predicted_class = 1 if probability_positive >= self.threshold else 0\n",
    "            y_test_predicted.append(predicted_class)\n",
    "        return np.array(y_test_predicted)\n",
    "\n",
    "\n",
    "\n",
    "    @staticmethod\n",
    "    def initialize_weights(size):\n",
    "        '''We Initialize the weights with random values with a mean of 0 and a standard deviation of 0.01\n",
    "          This is a common practice to prevent the weights from being too large at the begining '''\n",
    "        return np.random.randn(size+1) * 0.01\n",
    "\n",
    "    def update_weights(self,x_test,y_test):\n",
    "        predicted_prob = self.sigmoid(np.dot(self.weights,x_test))\n",
    "        gradient = ((y_test - predicted_prob) * x_test)\n",
    "        self.weights = (1 - 2*self.regularization_factor*self.learning_rate) * self.weights + self.learning_rate * gradient \n",
    "    \n",
    "    def evaluate(self, y_true, y_predicted):\n",
    "        precision = precision_score(y_true, y_predicted)\n",
    "        recall = recall_score(y_true, y_predicted)\n",
    "        f1 = f1_score(y_true, y_predicted)\n",
    "\n",
    "        print(classification_report(y_true, y_predicted))\n",
    "        print(\"Threshold: \"+str(self.threshold))\n",
    "        return np.array([precision,recall,f1])\n",
    "    \n",
    "\n",
    "    def generate_pr_curve(self, x_train_input,y_train_input,size=20):\n",
    "        currentThreshold = 0\n",
    "        percisions=[]\n",
    "        recalls=[]\n",
    "        for i in range(size):\n",
    "            currentThreshold += 1./size\n",
    "            if (currentThreshold>0.3 and currentThreshold<0.75):\n",
    "                self.set_threshold(currentThreshold)\n",
    "                fit_pr = self.fit(x_train_input , y_train_input)\n",
    "                percisions.append(fit_pr[0])\n",
    "                recalls.append(fit_pr[1])\n",
    "        print(percisions)\n",
    "        plt.plot(recalls,percisions ,label='Precision-Recall Curve')\n",
    "        plt.xlabel('Recall')\n",
    "        plt.ylabel('Precision')\n",
    "        plt.title('Precision-Recall Diagram')\n",
    "        plt.legend()\n",
    "        plt.show()\n"
   ]
  },
  {
   "cell_type": "markdown",
   "metadata": {},
   "source": [
    "#### Results\n",
    "Here we try out the Logistic Regression learning algorithm"
   ]
  },
  {
   "cell_type": "code",
   "execution_count": 33,
   "metadata": {},
   "outputs": [
    {
     "name": "stdout",
     "output_type": "stream",
     "text": [
      "              precision    recall  f1-score   support\n",
      "\n",
      "           0       0.50      1.00      0.67      9969\n",
      "           1       0.86      0.01      0.01     10031\n",
      "\n",
      "    accuracy                           0.50     20000\n",
      "   macro avg       0.68      0.50      0.34     20000\n",
      "weighted avg       0.68      0.50      0.34     20000\n",
      "\n",
      "Threshold: 0.6\n",
      "              precision    recall  f1-score   support\n",
      "\n",
      "           0       0.50      1.00      0.67     12500\n",
      "           1       0.50      0.00      0.01     12500\n",
      "\n",
      "    accuracy                           0.50     25000\n",
      "   macro avg       0.50      0.50      0.34     25000\n",
      "weighted avg       0.50      0.50      0.34     25000\n",
      "\n",
      "Threshold: 0.6\n"
     ]
    },
    {
     "data": {
      "text/plain": [
       "array([0.5       , 0.0028    , 0.00556881])"
      ]
     },
     "execution_count": 33,
     "metadata": {},
     "output_type": "execute_result"
    }
   ],
   "source": [
    "LogReg = LogisticRegression(100,threshold=0.6, regularization_factor=0.001)\n",
    "LogReg.fit(x_train,y_train)\n",
    "#LogReg.generate_pr_curves()\n",
    "y_predicted = LogReg.predict(x_test)\n",
    "\n",
    "LogReg.evaluate(y_test,y_predicted)"
   ]
  },
  {
   "cell_type": "markdown",
   "metadata": {},
   "source": [
    "#### Naive Bayes:"
   ]
  },
  {
   "cell_type": "code",
   "execution_count": 48,
   "metadata": {},
   "outputs": [],
   "source": [
    "import numpy as np\n",
    "from sklearn.metrics import accuracy_score, precision_score, recall_score, f1_score\n",
    "#\n",
    "\n",
    "class NaiveBayes: \n",
    "    def __init__(self):\n",
    "            self.probabilityC1= None #probabilityC0 = 1 -probabilityC1\n",
    "            self.boundProbabilityC0 = None \n",
    "            self.boundProbabilityC1 = None\n",
    "\n",
    "    def fit(self, x_train_input, y_train_input): \n",
    "        split_index = int(0.8 * x_train_input.shape[0])  # 80% for training, 20% for dev\n",
    "        x_train, y_train = x_train_input[:split_index], y_train_input[:split_index]\n",
    "        x_dev, y_dev= x_train_input[split_index:], y_train_input[split_index:]\n",
    "\n",
    "        numberOfExamples = x_train.shape[0]\n",
    "        numberOfFeatures = x_train.shape[1]\n",
    "        x_train = x_train.toarray()\n",
    "        #y_train = y_train.flatten()\n",
    "\n",
    "        positiveReviews = 0\n",
    "        for label in y_train: \n",
    "            if label == 1: \n",
    "                positiveReviews += 1 \n",
    "\n",
    "        self.probabilityC1 = positiveReviews / len(y_train)\n",
    "\n",
    "        '''\n",
    "        C0: P( X(i) = 0 | C = 0) and C1 = P ( X(i) = 0 | C = 1)\n",
    "        P( X(i) = 1 | C = 0) = 1 - P( X(i) = 0 | C = 0) and P( X(i) = 1 | C = 1) = P( X(i) = 0 | C = 1)\n",
    "        '''\n",
    "        self.boundProbabilityC0 = np.zeros(numberOfFeatures)  \n",
    "        self.boundProbabilityC1 = np.zeros(numberOfFeatures)\n",
    "        for i in range(numberOfFeatures): \n",
    "\n",
    "            #For every word that is not on a review add to the array correspnding to the review result of the example \n",
    "            for j in range(numberOfExamples):  \n",
    "                if y_train[j] == 0 and x_train[j][i] == 0: \n",
    "                    self.boundProbabilityC0[i] += 1 \n",
    "                elif y_train[j] == 1 and x_train[j][i] == 0: \n",
    "                    self.boundProbabilityC1[i] += 1 \n",
    "        \"\"\"\n",
    "        Adding Laplace estimator with an alpha value of 1 \n",
    "        \"\"\"\n",
    "        self.boundProbabilityC0 = [x + 1 / (numberOfExamples - positiveReviews + x) for x in self.boundProbabilityC0] \n",
    "        self.boundProbabilityC1 = [x + 1 / (positiveReviews+ x) for x in self.boundProbabilityC1]\n",
    "        print(\"Done!\")\n",
    "\n",
    "    def predict(self, x_test, y_test):\n",
    "        prediction = list()\n",
    "        c1 = self.boundProbabilityC1\n",
    "        c0 = self.boundProbabilityC0\n",
    "        numberOfFeatures = x_test.shape[1]\n",
    "        x_test = x_test.toarray()\n",
    "\n",
    "        for x in range(x_test.shape[0]): \n",
    "            positiveReviewProbability = self.probabilityC1 \n",
    "            negativeReviewProbability = (1 - self.probabilityC1)\n",
    "\n",
    "            for y in range(numberOfFeatures):\n",
    "                if x_test[x][y] == 0 and y_test[x] == 0: \n",
    "                    negativeReviewProbability = round(negativeReviewProbability * self.boundProbabilityC0[y], 2)\n",
    "                elif  x_test[x][y] == 1 and y_test[x] == 0: \n",
    "                    negativeReviewProbability = round(negativeReviewProbability * (1 - self.boundProbabilityC0[y]), 2)\n",
    "                elif  x_test[x][y] == 0 and y_test[x] == 1:\n",
    "                    positiveReviewProbability = round(positiveReviewProbability * self.boundProbabilityC1[y], 2)\n",
    "                elif  x_test[x][y] == 1 and y_test[x] == 1:\n",
    "                    positiveReviewProbability = round(positiveReviewProbability * (1 - self.boundProbabilityC1[y]), 2)\n",
    "\n",
    "            if positiveReviewProbability > negativeReviewProbability: \n",
    "                prediction.append(1)\n",
    "            elif negativeReviewProbability > positiveReviewProbability:\n",
    "                prediction.append(0)\n",
    "\n",
    "        return np.array(prediction)\n",
    "    \n",
    "    def evaluate(self, y_true, y_predicted):\n",
    "        accuracy = accuracy_score(y_true, y_predicted)\n",
    "        print(\"Accuracy:\", accuracy)\n",
    "\n",
    "        precision = precision_score(y_true, y_predicted)\n",
    "        print(\"Precision:\", precision)\n",
    "\n",
    "        # Compute recall\n",
    "        recall = recall_score(y_true, y_predicted)\n",
    "        print(\"Recall:\", recall)\n",
    "\n",
    "        # Compute F1 score\n",
    "        f1 = f1_score(y_true, y_predicted)\n",
    "        print(\"F1 Score:\", f1)\n",
    "        return np.array([precision,recall])\n",
    "    \n",
    "\n",
    "    \n"
   ]
  },
  {
   "cell_type": "markdown",
   "metadata": {},
   "source": [
    "#### Results:"
   ]
  },
  {
   "cell_type": "code",
   "execution_count": null,
   "metadata": {},
   "outputs": [],
   "source": [
    "NB = NaiveBayes()\n",
    "NB.fit(x_train,y_train)\n",
    "y_predicted = NB.predict(x_test, y_test)\n",
    "\n",
    "NB.evaluate(y_test,y_predicted)"
   ]
  },
  {
   "cell_type": "markdown",
   "metadata": {},
   "source": [
    "### Part 2:\n",
    "In this Part we are going to compare the algorithms we wrote to the ones given from the sci-kit learn library"
   ]
  },
  {
   "cell_type": "markdown",
   "metadata": {},
   "source": [
    "#### Stats"
   ]
  },
  {
   "cell_type": "code",
   "execution_count": 60,
   "metadata": {},
   "outputs": [],
   "source": [
    "# Precision Recall Curve\n",
    "def pr_curves(classifiers,data,size=20):\n",
    "    currentThreshold = 0\n",
    "    precisions1 = []\n",
    "    recalls1 = []\n",
    "    precisions2 = []\n",
    "    recalls2 = []\n",
    "\n",
    "    classifiers_results = []\n",
    "    \n",
    "    classifier1 = classifiers[0]\n",
    "    classifier2 = classifiers[1]\n",
    "    classifier1.fit(data[0],data[1])\n",
    "    classifier2.fit(data[0],data[1])\n",
    "\n",
    "    for i in range(size):\n",
    "        currentThreshold += 1./size\n",
    "        if (currentThreshold>0.3 and currentThreshold<0.75):\n",
    "            classifier1.set_threshold(currentThreshold)\n",
    "            results = classifier1.evaluate(data[1],classifier1.predict(data[0]))\n",
    "            recalls1.append(results[0])\n",
    "            precisions1.append(results[1])\n",
    "    currentThreshold = 0\n",
    "    for i in range(size):\n",
    "        currentThreshold += 1./size\n",
    "        if (currentThreshold>0.3 and currentThreshold<0.75):\n",
    "            y_pred_proba = classifier2.predict_proba(data[0])[:, 1]  # Probability estimates for the positive class\n",
    "            y_pred_custom_threshold = (y_pred_proba > currentThreshold).astype(int)\n",
    "            recalls2.append(recall_score(data[1],y_pred_custom_threshold))\n",
    "            precisions2.append(precision_score(data[1],y_pred_custom_threshold))\n",
    "\n",
    "    \n",
    "    plt.plot(recalls1, precisions1 ,label='our curve')\n",
    "    plt.plot(recalls2, precisions2 ,label='sci-kit learn')\n",
    "    plt.xlabel('Recall')\n",
    "    plt.ylabel('Precision')\n",
    "    plt.title('Precision-Recall Diagram')\n",
    "    plt.legend()\n",
    "    plt.show()\n"
   ]
  },
  {
   "cell_type": "code",
   "execution_count": 62,
   "metadata": {},
   "outputs": [
    {
     "name": "stdout",
     "output_type": "stream",
     "text": [
      "              precision    recall  f1-score   support\n",
      "\n",
      "           0       0.87      0.94      0.90      9969\n",
      "           1       0.94      0.86      0.90     10031\n",
      "\n",
      "    accuracy                           0.90     20000\n",
      "   macro avg       0.90      0.90      0.90     20000\n",
      "weighted avg       0.90      0.90      0.90     20000\n",
      "\n",
      "Threshold: 0.6\n"
     ]
    },
    {
     "name": "stderr",
     "output_type": "stream",
     "text": [
      "c:\\Users\\vleft\\AppData\\Local\\Programs\\Python\\Python310\\lib\\site-packages\\sklearn\\linear_model\\_logistic.py:460: ConvergenceWarning: lbfgs failed to converge (status=1):\n",
      "STOP: TOTAL NO. of ITERATIONS REACHED LIMIT.\n",
      "\n",
      "Increase the number of iterations (max_iter) or scale the data as shown in:\n",
      "    https://scikit-learn.org/stable/modules/preprocessing.html\n",
      "Please also refer to the documentation for alternative solver options:\n",
      "    https://scikit-learn.org/stable/modules/linear_model.html#logistic-regression\n",
      "  n_iter_i = _check_optimize_result(\n"
     ]
    },
    {
     "name": "stdout",
     "output_type": "stream",
     "text": [
      "              precision    recall  f1-score   support\n",
      "\n",
      "           0       0.95      0.78      0.86     12500\n",
      "           1       0.81      0.96      0.88     12500\n",
      "\n",
      "    accuracy                           0.87     25000\n",
      "   macro avg       0.88      0.87      0.87     25000\n",
      "weighted avg       0.88      0.87      0.87     25000\n",
      "\n",
      "Threshold: 0.35\n",
      "              precision    recall  f1-score   support\n",
      "\n",
      "           0       0.94      0.82      0.88     12500\n",
      "           1       0.84      0.95      0.89     12500\n",
      "\n",
      "    accuracy                           0.88     25000\n",
      "   macro avg       0.89      0.88      0.88     25000\n",
      "weighted avg       0.89      0.88      0.88     25000\n",
      "\n",
      "Threshold: 0.39999999999999997\n",
      "              precision    recall  f1-score   support\n",
      "\n",
      "           0       0.93      0.86      0.89     12500\n",
      "           1       0.87      0.93      0.90     12500\n",
      "\n",
      "    accuracy                           0.89     25000\n",
      "   macro avg       0.90      0.89      0.89     25000\n",
      "weighted avg       0.90      0.89      0.89     25000\n",
      "\n",
      "Threshold: 0.44999999999999996\n",
      "              precision    recall  f1-score   support\n",
      "\n",
      "           0       0.91      0.89      0.90     12500\n",
      "           1       0.89      0.91      0.90     12500\n",
      "\n",
      "    accuracy                           0.90     25000\n",
      "   macro avg       0.90      0.90      0.90     25000\n",
      "weighted avg       0.90      0.90      0.90     25000\n",
      "\n",
      "Threshold: 0.49999999999999994\n",
      "              precision    recall  f1-score   support\n",
      "\n",
      "           0       0.89      0.91      0.90     12500\n",
      "           1       0.91      0.88      0.90     12500\n",
      "\n",
      "    accuracy                           0.90     25000\n",
      "   macro avg       0.90      0.90      0.90     25000\n",
      "weighted avg       0.90      0.90      0.90     25000\n",
      "\n",
      "Threshold: 0.5499999999999999\n",
      "              precision    recall  f1-score   support\n",
      "\n",
      "           0       0.86      0.93      0.90     12500\n",
      "           1       0.93      0.85      0.89     12500\n",
      "\n",
      "    accuracy                           0.89     25000\n",
      "   macro avg       0.90      0.89      0.89     25000\n",
      "weighted avg       0.90      0.89      0.89     25000\n",
      "\n",
      "Threshold: 0.6\n",
      "              precision    recall  f1-score   support\n",
      "\n",
      "           0       0.84      0.95      0.89     12500\n",
      "           1       0.94      0.81      0.87     12500\n",
      "\n",
      "    accuracy                           0.88     25000\n",
      "   macro avg       0.89      0.88      0.88     25000\n",
      "weighted avg       0.89      0.88      0.88     25000\n",
      "\n",
      "Threshold: 0.65\n",
      "              precision    recall  f1-score   support\n",
      "\n",
      "           0       0.80      0.96      0.87     12500\n",
      "           1       0.95      0.76      0.85     12500\n",
      "\n",
      "    accuracy                           0.86     25000\n",
      "   macro avg       0.88      0.86      0.86     25000\n",
      "weighted avg       0.88      0.86      0.86     25000\n",
      "\n",
      "Threshold: 0.7000000000000001\n"
     ]
    },
    {
     "data": {
      "image/png": "[encoded data removed]",
      "text/plain": [
       "<Figure size 640x480 with 1 Axes>"
      ]
     },
     "metadata": {},
     "output_type": "display_data"
    }
   ],
   "source": [
    "from sklearn.linear_model import LogisticRegression as skLogReg\n",
    "\n",
    "LogReg1 = LogisticRegression(100,threshold=0.6, regularization_factor=0.001)\n",
    "LogReg2 = skLogReg(max_iter=100)\n",
    "pr_curves([LogReg1, LogReg2],[x_train,y_train],size=20)\n",
    "\n",
    "\n",
    "# LogReg.fit(x_train,y_train)\n",
    "\n",
    "# classification_report(y_test,LogReg.predict(x_test))"
   ]
  }
 ],
 "metadata": {
  "kernelspec": {
   "display_name": "Python 3",
   "language": "python",
   "name": "python3"
  },
  "language_info": {
   "codemirror_mode": {
    "name": "ipython",
    "version": 3
   },
   "file_extension": ".py",
   "mimetype": "text/x-python",
   "name": "python",
   "nbconvert_exporter": "python",
   "pygments_lexer": "ipython3",
   "version": "3.10.6"
  }
 },
 "nbformat": 4,
 "nbformat_minor": 2
}
