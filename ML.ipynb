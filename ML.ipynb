{
 "cells": [
  {
   "cell_type": "markdown",
   "metadata": {},
   "source": [
    "## Machine Learning\n"
   ]
  },
  {
   "cell_type": "markdown",
   "metadata": {},
   "source": [
    "#### Μέλη Ομάδας:\n",
    "- Ευάγγελος Λευτάκης : 3200093\n",
    "- Ρέα Σκλήκα : 3210181\n",
    "- Σοφία-Ζωή Σωτηρίου : 3210192"
   ]
  },
  {
   "cell_type": "markdown",
   "metadata": {},
   "source": [
    "### Dependencies"
   ]
  },
  {
   "cell_type": "code",
   "execution_count": 3,
   "metadata": {},
   "outputs": [],
   "source": [
    "import pandas as pd\n",
    "import numpy as np\n",
    "import scipy as sp\n",
    "import matplotlib.pyplot as plt\n",
    "import tensorflow as tf\n",
    "import sklearn"
   ]
  },
  {
   "cell_type": "markdown",
   "metadata": {},
   "source": [
    "### 1st Part"
   ]
  },
  {
   "cell_type": "markdown",
   "metadata": {},
   "source": [
    "First We Prepare the train, dev and test data and create a binary representation of it."
   ]
  },
  {
   "cell_type": "code",
   "execution_count": 28,
   "metadata": {},
   "outputs": [
    {
     "name": "stdout",
     "output_type": "stream",
     "text": [
      "Vocabulary size: 3834\n"
     ]
    }
   ],
   "source": [
    "from sklearn.feature_extraction.text import CountVectorizer\n",
    "\n",
    "(x_train_imdb, y_train), (x_test_imdb, y_test) = tf.keras.datasets.imdb.load_data()\n",
    "\n",
    "\n",
    "# x_train_imdb, y_train_imdb = temp_x_train_imdb[:split_index], y_train[:split_index]\n",
    "# x_dev_imdb, y_dev_imdb = temp_x_train_imdb[split_index:], y_train[split_index:]\n",
    "\n",
    "word_index = tf.keras.datasets.imdb.get_word_index()\n",
    "index2word = dict((i + 3, word) for (word, i) in word_index.items())\n",
    "index2word[0] = '[pad]'\n",
    "index2word[1] = '[bos]'\n",
    "index2word[2] = '[oov]'\n",
    "x_train_imdb = np.array([' '.join([index2word[idx] for idx in text]) for text in x_train_imdb])\n",
    "x_test_imdb = np.array([' '.join([index2word[idx] for idx in text]) for text in x_test_imdb])\n",
    "\n",
    "binary_vectorizer = CountVectorizer(binary=True, min_df=100)\n",
    "x_train = binary_vectorizer.fit_transform(x_train_imdb)\n",
    "x_test = binary_vectorizer.transform(x_test_imdb)\n",
    "print(\n",
    "    'Vocabulary size:', len(binary_vectorizer.vocabulary_)\n",
    ")\n",
    "x_train = x_train.astype(int)\n",
    "x_test = x_test.astype(int)\n",
    "# print(x_train.shape)\n",
    "\n"
   ]
  },
  {
   "cell_type": "markdown",
   "metadata": {},
   "source": [
    "#### Logistic Regression:\n"
   ]
  },
  {
   "cell_type": "code",
   "execution_count": 37,
   "metadata": {},
   "outputs": [],
   "source": [
    "from sklearn.metrics import accuracy_score, precision_score, recall_score, f1_score, confusion_matrix\n",
    "\n",
    "class LogisticRegression():\n",
    "   \n",
    "\n",
    "    def __init__(self,epochs=20,learning_rate=0.001,threshold=0.5, regularization_factor=1):\n",
    "        self.epochs=epochs;\n",
    "        self.learning_rate=learning_rate\n",
    "        self.weights = np.array([])\n",
    "        self.threshold=threshold\n",
    "        self.regularization_factor = regularization_factor\n",
    "        \n",
    "    \n",
    "\n",
    "    def sigmoid(self , t):\n",
    "        return 1/(1+np.exp(-t))\n",
    "\n",
    "\n",
    "    def fit(self,x_train_input,y_train_input):\n",
    "        ''' '''\n",
    "        feature_vector_length = x_train_input.shape[1]\n",
    "        split_index = int(0.8 * x_train_input.shape[0])  # 80% for training, 20% for dev\n",
    "        x_train, y_train = x_train_input[:split_index], y_train_input[:split_index]\n",
    "        x_dev, y_dev= x_train_input[split_index:], y_train_input[split_index:]\n",
    "        x_train = x_train.toarray()\n",
    "        ones_column = np.ones(x_train.shape[0])\n",
    "        x_train = np.insert(x_train, 0, ones_column, axis=1)\n",
    "        self.weights = self.initialize_weights(feature_vector_length)\n",
    "        \n",
    "        for epoch in range(self.epochs):\n",
    "            for i in range(x_train.shape[0]):\n",
    "                x_i = x_train[i]\n",
    "                y_i = y_train[i-1]\n",
    "\n",
    "                self.update_weights(x_i,y_i)\n",
    "\n",
    "        print(\"Done!!\")\n",
    "\n",
    "\n",
    "        \n",
    "    \n",
    "    def predict(self, x_test):\n",
    "        \n",
    "        features_length = x_test.shape[1]\n",
    "\n",
    "        x_test = x_test.toarray()\n",
    "        ones_column = np.ones(x_test.shape[0])\n",
    "        x_test = np.insert(x_test, 0, ones_column, axis=1)#insert 1 in x_vector for w0\n",
    "\n",
    "        y_test_predicted = []\n",
    "\n",
    "\n",
    "        for test_case in x_test:\n",
    "            probability_positive =  self.sigmoid(np.dot(self.weights,test_case))\n",
    "            predicted_class = 1 if probability_positive >= self.threshold else 0\n",
    "            y_test_predicted.append(predicted_class)\n",
    "        return np.array(y_test_predicted)\n",
    "\n",
    "\n",
    "\n",
    "    @staticmethod\n",
    "    def initialize_weights(size):\n",
    "        '''We Initialize the weights with random values with a mean of 0 and a standard deviation of 0.01\n",
    "          This is a common practice to prevent the weights from being too large at the begining '''\n",
    "        return np.random.randn(size+1) * 0.01\n",
    "\n",
    "    def update_weights(self,x_test,y_test):\n",
    "        predicted_prob = self.sigmoid(np.dot(self.weights,x_test))\n",
    "        gradient = ((y_test - predicted_prob) * x_test) - ( self.regularization_factor * self.weights) \n",
    "        self.weights += self.learning_rate * gradient \n",
    "    \n",
    "    def calculateStatistics(self, y_true, y_predicted):\n",
    "        accuracy = accuracy_score(y_true, y_predicted)\n",
    "        print(\"Accuracy:\", accuracy)\n",
    "\n",
    "        precision = precision_score(y_true, y_predicted)\n",
    "        print(\"Precision:\", precision)\n",
    "\n",
    "        # Compute recall\n",
    "        recall = recall_score(y_true, y_predicted)\n",
    "        print(\"Recall:\", recall)\n",
    "\n",
    "        # Compute F1 score\n",
    "        f1 = f1_score(y_true, y_predicted)\n",
    "        print(\"F1 Score:\", f1)"
   ]
  },
  {
   "cell_type": "markdown",
   "metadata": {},
   "source": [
    "#### Results\n",
    "Here we try out the Logistic Regression learning algorithm"
   ]
  },
  {
   "cell_type": "code",
   "execution_count": 42,
   "metadata": {},
   "outputs": [
    {
     "name": "stdout",
     "output_type": "stream",
     "text": [
      "Done!!\n",
      "Accuracy: 0.49112\n",
      "Precision: 0.4747612551159618\n",
      "Recall: 0.16704\n",
      "F1 Score: 0.24712983785063322\n"
     ]
    }
   ],
   "source": [
    "LogReg = LogisticRegression(100,threshold=0.55, regularization_factor=0.01)\n",
    "LogReg.fit(x_train,y_train)\n",
    " \n",
    "y_predicted = LogReg.predict(x_test)\n",
    "\n",
    "LogReg.calculateStatistics(y_test,y_predicted)"
   ]
  }
 ],
 "metadata": {
  "kernelspec": {
   "display_name": "Python 3",
   "language": "python",
   "name": "python3"
  },
  "language_info": {
   "codemirror_mode": {
    "name": "ipython",
    "version": 3
   },
   "file_extension": ".py",
   "mimetype": "text/x-python",
   "name": "python",
   "nbconvert_exporter": "python",
   "pygments_lexer": "ipython3",
   "version": "3.10.6"
  }
 },
 "nbformat": 4,
 "nbformat_minor": 2
}
