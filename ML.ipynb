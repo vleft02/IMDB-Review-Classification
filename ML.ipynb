{
 "cells": [
  {
   "cell_type": "markdown",
   "metadata": {},
   "source": [
    "## IMDB review sentiment Analysis\n"
   ]
  },
  {
   "cell_type": "markdown",
   "metadata": {},
   "source": [
    "#### Μέλη Ομάδας:\n",
    "- Ευάγγελος Λευτάκης : 3200093\n",
    "- Ρέα Σκλήκα : 3210181\n",
    "- Σοφία-Ζωή Σωτηρίου : 3210192"
   ]
  },
  {
   "cell_type": "markdown",
   "metadata": {},
   "source": [
    "### Dependencies"
   ]
  },
  {
   "cell_type": "code",
   "execution_count": null,
   "metadata": {},
   "outputs": [],
   "source": [
    "pip install pandas\n",
    "pip install numpy\n",
    "pip install scipy\n",
    "pip install tensorflow\n",
    "pip install sklearn"
   ]
  },
  {
   "cell_type": "code",
   "execution_count": 1,
   "metadata": {},
   "outputs": [],
   "source": [
    "import pandas as pd\n",
    "import numpy as np\n",
    "import scipy as sp\n",
    "import matplotlib.pyplot as plt\n",
    "import tensorflow as tf\n",
    "import sklearn"
   ]
  },
  {
   "cell_type": "markdown",
   "metadata": {},
   "source": [
    "### 1st Part"
   ]
  },
  {
   "cell_type": "markdown",
   "metadata": {},
   "source": [
    "First We Prepare the train and test data and create a binary representation of it."
   ]
  },
  {
   "cell_type": "code",
   "execution_count": 11,
   "metadata": {},
   "outputs": [
    {
     "name": "stdout",
     "output_type": "stream",
     "text": [
      "Vocabulary size: 3834\n"
     ]
    }
   ],
   "source": [
    "from sklearn.feature_extraction.text import CountVectorizer\n",
    "\n",
    "(x_train_imdb, y_train), (x_test_imdb, y_test) = tf.keras.datasets.imdb.load_data()\n",
    "\n",
    "\n",
    "# x_train_imdb, y_train_imdb = temp_x_train_imdb[:split_index], y_train[:split_index]\n",
    "# x_dev_imdb, y_dev_imdb = temp_x_train_imdb[split_index:], y_train[split_index:]\n",
    "\n",
    "word_index = tf.keras.datasets.imdb.get_word_index()\n",
    "index2word = dict((i + 3, word) for (word, i) in word_index.items())\n",
    "index2word[0] = '[pad]'\n",
    "index2word[1] = '[bos]'\n",
    "index2word[2] = '[oov]'\n",
    "x_train_imdb = np.array([' '.join([index2word[idx] for idx in text]) for text in x_train_imdb])\n",
    "x_test_imdb = np.array([' '.join([index2word[idx] for idx in text]) for text in x_test_imdb])\n",
    "\n",
    "binary_vectorizer = CountVectorizer(binary=True, min_df=100)\n",
    "x_train = binary_vectorizer.fit_transform(x_train_imdb)\n",
    "x_test = binary_vectorizer.transform(x_test_imdb)\n",
    "print(\n",
    "    'Vocabulary size:', len(binary_vectorizer.vocabulary_)\n",
    ")\n",
    "x_train = x_train.astype(int)\n",
    "x_test = x_test.astype(int)\n",
    "# print(x_train.shape)\n",
    "\n"
   ]
  },
  {
   "cell_type": "markdown",
   "metadata": {},
   "source": [
    "#### Logistic Regression:\n"
   ]
  },
  {
   "cell_type": "code",
   "execution_count": 40,
   "metadata": {},
   "outputs": [],
   "source": [
    "from sklearn.metrics import accuracy_score, precision_score, recall_score, f1_score\n",
    "from scipy.sparse import issparse\n",
    "\n",
    "class LogisticRegression():\n",
    "   \n",
    "\n",
    "    def __init__(self,epochs=20,learning_rate=0.001,threshold=0.5, regularization_factor=1):\n",
    "        self.epochs=epochs;\n",
    "        self.learning_rate=learning_rate\n",
    "        self.weights = np.array([])\n",
    "        self.threshold=threshold\n",
    "        self.regularization_factor = regularization_factor\n",
    "        \n",
    "    \n",
    "    def set_threshold(self,value):\n",
    "        self.threshold = value\n",
    "    def sigmoid(self , t):\n",
    "        return 1/(1+np.exp(-t))\n",
    "\n",
    "\n",
    "    def fit(self,x_train_input,y_train_input):\n",
    "        ''' '''\n",
    "        feature_vector_length = x_train_input.shape[1]\n",
    "        split_index = int(0.8 * x_train_input.shape[0])  # 80% for training, 20% for dev\n",
    "        x_train, y_train = x_train_input[:split_index], y_train_input[:split_index]\n",
    "        x_dev, y_dev= x_train_input[split_index:], y_train_input[split_index:]\n",
    "        x_dev = x_dev.toarray()\n",
    "\n",
    "        x_train = x_train.toarray()\n",
    "        ones_column = np.ones(x_train.shape[0])\n",
    "        x_train = np.insert(x_train, 0, ones_column, axis=1)\n",
    "        self.weights = self.initialize_weights(feature_vector_length)\n",
    "        \n",
    "        for epoch in range(self.epochs):\n",
    "            for i in range(x_train.shape[0]):\n",
    "                x_i = x_train[i-1]\n",
    "                y_i = y_train[i-1]\n",
    "\n",
    "                self.update_weights(x_i,y_i)\n",
    "        y_dev_predicted = self.predict(x_dev)\n",
    "        return self.evaluate(y_dev_predicted, y_dev)\n",
    "\n",
    "\n",
    "        \n",
    "    \n",
    "    def predict(self, x_test):\n",
    "        \n",
    "        features_length = x_test.shape[1]\n",
    "        if issparse(x_test):\n",
    "            x_test = x_test.toarray()\n",
    "        ones_column = np.ones(x_test.shape[0])\n",
    "        x_test = np.insert(x_test, 0, ones_column, axis=1)#insert 1 in x_vector for w0\n",
    "\n",
    "        y_test_predicted = []\n",
    "\n",
    "\n",
    "        for test_case in x_test:\n",
    "            probability_positive =  self.sigmoid(np.dot(self.weights,test_case))\n",
    "            predicted_class = 1 if probability_positive >= self.threshold else 0\n",
    "            y_test_predicted.append(predicted_class)\n",
    "        return np.array(y_test_predicted)\n",
    "\n",
    "\n",
    "\n",
    "    @staticmethod\n",
    "    def initialize_weights(size):\n",
    "        '''We Initialize the weights with random values with a mean of 0 and a standard deviation of 0.01\n",
    "          This is a common practice to prevent the weights from being too large at the begining '''\n",
    "        return np.random.randn(size+1) * 0.01\n",
    "\n",
    "    def update_weights(self,x_test,y_test):\n",
    "        predicted_prob = self.sigmoid(np.dot(self.weights,x_test))\n",
    "        gradient = ((y_test - predicted_prob) * x_test)\n",
    "        self.weights += self.learning_rate * gradient \n",
    "    \n",
    "    def evaluate(self, y_true, y_predicted):\n",
    "        accuracy = accuracy_score(y_true, y_predicted)\n",
    "        print(\"Accuracy:\", accuracy)\n",
    "\n",
    "        precision = precision_score(y_true, y_predicted)\n",
    "        print(\"Precision:\", precision)\n",
    "\n",
    "        # Compute recall\n",
    "        recall = recall_score(y_true, y_predicted)\n",
    "        print(\"Recall:\", recall)\n",
    "\n",
    "        # Compute F1 score\n",
    "        f1 = f1_score(y_true, y_predicted)\n",
    "        print(\"F1 Score:\", f1)\n",
    "        print(\"Threshold: \"+str(self.threshold))\n",
    "        return np.array([precision,recall])\n",
    "    \n",
    "\n",
    "    def generate_pr_curve(self, x_train_input,y_train_input,size=20):\n",
    "        currentThreshold = 0\n",
    "        percisions=[]\n",
    "        recalls=[]\n",
    "        for i in range(size):\n",
    "            currentThreshold += 1./size\n",
    "            if (currentThreshold>0.3 and currentThreshold<0.75):\n",
    "                self.set_threshold(currentThreshold)\n",
    "                fit_pr = self.fit(x_train_input , y_train_input)\n",
    "                percisions.append(fit_pr[0])\n",
    "                recalls.append(fit_pr[1])\n",
    "        print(percisions)\n",
    "        plt.plot(recalls,percisions ,label='Precision-Recall Curve')\n",
    "        plt.xlabel('Recall')\n",
    "        plt.ylabel('Precision')\n",
    "        plt.title('Precision-Recall Diagram')\n",
    "        plt.legend()\n",
    "        plt.show()\n"
   ]
  },
  {
   "cell_type": "markdown",
   "metadata": {},
   "source": [
    "#### Results\n",
    "Here we try out the Logistic Regression learning algorithm"
   ]
  },
  {
   "cell_type": "code",
   "execution_count": 42,
   "metadata": {},
   "outputs": [
    {
     "name": "stdout",
     "output_type": "stream",
     "text": [
      "Accuracy: 0.8764\n",
      "Precision: 0.880113406237343\n",
      "Recall: 0.8709418837675351\n",
      "F1 Score: 0.8755036261079775\n",
      "Threshold: 0.5\n",
      "Accuracy: 0.87116\n",
      "Precision: 0.8669039145907473\n",
      "Recall: 0.87696\n",
      "F1 Score: 0.8719029628156691\n",
      "Threshold: 0.5\n"
     ]
    },
    {
     "data": {
      "text/plain": [
       "array([0.86690391, 0.87696   ])"
      ]
     },
     "execution_count": 42,
     "metadata": {},
     "output_type": "execute_result"
    }
   ],
   "source": [
    "LogReg = LogisticRegression(100,threshold=0.5, regularization_factor=0.01)\n",
    "LogReg.fit(x_train,y_train)\n",
    "y_predicted = LogReg.predict(x_test)\n",
    "# fit(x_train,y_train)\n",
    " \n",
    "# y_predicted = LogReg.predict(x_test)\n",
    "\n",
    "LogReg.evaluate(y_test,y_predicted)"
   ]
  },
  {
   "cell_type": "markdown",
   "metadata": {},
   "source": [
    "#### Naive Bayes:"
   ]
  },
  {
   "cell_type": "code",
   "execution_count": 14,
   "metadata": {},
   "outputs": [],
   "source": [
    "import numpy as np\n",
    "from sklearn.metrics import accuracy_score, precision_score, recall_score, f1_score, confusion_matrix\n",
    "#from scipy.sparse import isspars\n",
    "\n",
    "class NaiveBayes: \n",
    "    def __init__(self):\n",
    "            self.probabilityC1= None #probabilityC0 = 1 -probabilityC1\n",
    "            self.boundProbabilityC0 = None \n",
    "            self.boundProbabilityC1 = None\n",
    "\n",
    "    def fit(self, x_train_input, y_train_input): \n",
    "        split_index = int(0.8 * x_train_input.shape[0])  # 80% for training, 20% for dev\n",
    "        x_train, y_train = x_train_input[:split_index], y_train_input[:split_index]\n",
    "        x_dev, y_dev= x_train_input[split_index:], y_train_input[split_index:]\n",
    "\n",
    "        numberOfExamples = x_train.shape[0]\n",
    "        numberOfFeatures = x_train.shape[1]\n",
    "        x_train = x_train.toarray()\n",
    "        #y_train = y_train.flatten()\n",
    "\n",
    "        positiveReviews = 0\n",
    "        for label in y_train: \n",
    "            if label == 1: \n",
    "                positiveReviews += 1 \n",
    "\n",
    "        self.probabilityC1 = positiveReviews / len(y_train)\n",
    "\n",
    "        '''\n",
    "        C0: P( X(i) = 0 | C = 0) and C1 = P ( X(i) = 0 | C = 1)\n",
    "        P( X(i) = 1 | C = 0) = 1 - P( X(i) = 0 | C = 0) and P( X(i) = 1 | C = 1) = P( X(i) = 0 | C = 1)\n",
    "        '''\n",
    "        self.boundProbabilityC0 = np.zeros(numberOfFeatures)  \n",
    "        self.boundProbabilityC1 = np.zeros(numberOfFeatures)\n",
    "        for i in range(numberOfFeatures): \n",
    "\n",
    "            #For every word that is not on a review add to the array correspnding to the review result of the example \n",
    "            for j in range(numberOfExamples):  \n",
    "                if y_train[j] == 0 and x_train[j][i] == 0: \n",
    "                    self.boundProbabilityC0[i] += 1 \n",
    "                elif y_train[j] == 1 and x_train[j][i] == 0: \n",
    "                    self.boundProbabilityC1[i] += 1 \n",
    "        \"\"\"\n",
    "        Adding Laplace estimator with an alpha value of 1 \n",
    "        \"\"\"\n",
    "        self.boundProbabilityC0 = [x + 1 / (numberOfExamples - positiveReviews + x) for x in self.boundProbabilityC0] \n",
    "        self.boundProbabilityC1 = [x + 1 / (positiveReviews+ x) for x in self.boundProbabilityC1]\n",
    "\n",
    "    def predict(self, x_test, y_test):\n",
    "        prediction = list()\n",
    "        c1 = self.boundProbabilityC1\n",
    "        c0 = self.boundProbabilityC0\n",
    "        numberOfFeatures = x_test.shape[1]\n",
    "        x_test = x_test.toarray()\n",
    "\n",
    "        for x in range(x_test.shape[0]): \n",
    "            positiveReviewProbability = self.probabilityC1 \n",
    "            negativeReviewProbability = (1 - self.probabilityC1)\n",
    "\n",
    "            for y in range(numberOfFeatures):\n",
    "                if x_test[x][y] == 0 and y_test[x] == 0: \n",
    "                    negativeReviewProbability = round(negativeReviewProbability * self.boundProbabilityC0[y], 2)\n",
    "                elif  x_test[x][y] == 1 and y_test[x] == 0: \n",
    "                    negativeReviewProbability = round(negativeReviewProbability * (1 - self.boundProbabilityC0[y]), 2)\n",
    "                elif  x_test[x][y] == 0 and y_test[x] == 1:\n",
    "                    positiveReviewProbability = round(positiveReviewProbability * self.boundProbabilityC1[y], 2)\n",
    "                elif  x_test[x][y] == 1 and y_test[x] == 1:\n",
    "                    positiveReviewProbability = round(positiveReviewProbability * (1 - self.boundProbabilityC1[y]), 2)\n",
    "\n",
    "            if positiveReviewProbability > negativeReviewProbability: \n",
    "                prediction.append(1)\n",
    "            elif negativeReviewProbability > positiveReviewProbability:\n",
    "                prediction.append(0)\n",
    "\n",
    "        return np.array(prediction)\n",
    "    \n",
    "    def evaluate(self, y_true, y_predicted):\n",
    "        accuracy = accuracy_score(y_true, y_predicted)\n",
    "        print(\"Accuracy:\", accuracy)\n",
    "\n",
    "        precision = precision_score(y_true, y_predicted)\n",
    "        print(\"Precision:\", precision)\n",
    "\n",
    "        # Compute recall\n",
    "        recall = recall_score(y_true, y_predicted)\n",
    "        print(\"Recall:\", recall)\n",
    "\n",
    "        # Compute F1 score\n",
    "        f1 = f1_score(y_true, y_predicted)\n",
    "        print(\"F1 Score:\", f1)\n",
    "        #print(\"Threshold: \"+str(self.threshold))\n",
    "        return np.array([precision,recall])\n",
    "    \n",
    "\n",
    "    \n"
   ]
  },
  {
   "cell_type": "markdown",
   "metadata": {},
   "source": []
  },
  {
   "cell_type": "code",
   "execution_count": 16,
   "metadata": {},
   "outputs": [
    {
     "name": "stderr",
     "output_type": "stream",
     "text": [
      "C:\\Users\\Sophia\\AppData\\Local\\Temp\\ipykernel_19124\\3336605343.py:61: RuntimeWarning: overflow encountered in multiply\n",
      "  negativeReviewProbability = round(negativeReviewProbability * self.boundProbabilityC0[y], 2)\n",
      "C:\\Users\\Sophia\\AppData\\Local\\Temp\\ipykernel_19124\\3336605343.py:65: RuntimeWarning: overflow encountered in multiply\n",
      "  positiveReviewProbability = round(positiveReviewProbability * self.boundProbabilityC1[y], 2)\n",
      "C:\\Users\\Sophia\\AppData\\Local\\Temp\\ipykernel_19124\\3336605343.py:63: RuntimeWarning: overflow encountered in multiply\n",
      "  negativeReviewProbability = round(negativeReviewProbability * (1 - self.boundProbabilityC0[y]), 2)\n",
      "C:\\Users\\Sophia\\AppData\\Local\\Temp\\ipykernel_19124\\3336605343.py:67: RuntimeWarning: overflow encountered in multiply\n",
      "  positiveReviewProbability = round(positiveReviewProbability * (1 - self.boundProbabilityC1[y]), 2)\n"
     ]
    },
    {
     "name": "stdout",
     "output_type": "stream",
     "text": [
      "Accuracy: 0.49596\n",
      "Precision: 0.4960075895327694\n",
      "Recall: 0.50192\n",
      "F1 Score: 0.4989462801701857\n"
     ]
    },
    {
     "data": {
      "text/plain": [
       "array([0.49600759, 0.50192   ])"
      ]
     },
     "execution_count": 16,
     "metadata": {},
     "output_type": "execute_result"
    }
   ],
   "source": [
    "NB = NaiveBayes()\n",
    "NB.fit(x_train,y_train)\n",
    "y_predicted = NB.predict(x_test, y_test)\n",
    "# fit(x_train,y_train)\n",
    " \n",
    "# y_predicted = LogReg.predict(x_test)\n",
    "\n",
    "NB.evaluate(y_test,y_predicted)"
   ]
  }
 ],
 "metadata": {
  "kernelspec": {
   "display_name": "Python 3",
   "language": "python",
   "name": "python3"
  },
  "language_info": {
   "codemirror_mode": {
    "name": "ipython",
    "version": 3
   },
   "file_extension": ".py",
   "mimetype": "text/x-python",
   "name": "python",
   "nbconvert_exporter": "python",
   "pygments_lexer": "ipython3",
   "version": "3.10.6"
  }
 },
 "nbformat": 4,
 "nbformat_minor": 2
}
