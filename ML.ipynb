{
 "cells": [
  {
   "cell_type": "markdown",
   "metadata": {},
   "source": [
    "## Machine Learning\n"
   ]
  },
  {
   "cell_type": "markdown",
   "metadata": {},
   "source": [
    "#### Μέλη Ομάδας:\n",
    "- Ευάγγελος Λευτάκης : 3200093\n",
    "- Ρέα Σκλήκα : 3210181\n",
    "- Σοφία-Ζωή Σωτηρίου : 3210192"
   ]
  },
  {
   "cell_type": "markdown",
   "metadata": {},
   "source": [
    "### Dependencies"
   ]
  },
  {
   "cell_type": "code",
   "execution_count": 1,
   "metadata": {},
   "outputs": [],
   "source": [
    "import pandas as pd\n",
    "import numpy as np\n",
    "import scipy as sp\n",
    "import matplotlib.pyplot as plt\n",
    "import tensorflow as tf\n",
    "import sklearn"
   ]
  },
  {
   "cell_type": "markdown",
   "metadata": {},
   "source": [
    "### 1st Part"
   ]
  },
  {
   "cell_type": "markdown",
   "metadata": {},
   "source": [
    "First We Prepare the train, dev and test data and create a binary representation of it."
   ]
  },
  {
   "cell_type": "code",
   "execution_count": 2,
   "metadata": {},
   "outputs": [
    {
     "name": "stdout",
     "output_type": "stream",
     "text": [
      "Vocabulary size: 3834\n"
     ]
    }
   ],
   "source": [
    "from sklearn.feature_extraction.text import CountVectorizer\n",
    "\n",
    "(x_train_imdb, y_train), (x_test_imdb, y_test) = tf.keras.datasets.imdb.load_data()\n",
    "\n",
    "\n",
    "# x_train_imdb, y_train_imdb = temp_x_train_imdb[:split_index], y_train[:split_index]\n",
    "# x_dev_imdb, y_dev_imdb = temp_x_train_imdb[split_index:], y_train[split_index:]\n",
    "\n",
    "word_index = tf.keras.datasets.imdb.get_word_index()\n",
    "index2word = dict((i + 3, word) for (word, i) in word_index.items())\n",
    "index2word[0] = '[pad]'\n",
    "index2word[1] = '[bos]'\n",
    "index2word[2] = '[oov]'\n",
    "x_train_imdb = np.array([' '.join([index2word[idx] for idx in text]) for text in x_train_imdb])\n",
    "x_test_imdb = np.array([' '.join([index2word[idx] for idx in text]) for text in x_test_imdb])\n",
    "\n",
    "binary_vectorizer = CountVectorizer(binary=True, min_df=100)\n",
    "x_train = binary_vectorizer.fit_transform(x_train_imdb)\n",
    "x_test = binary_vectorizer.transform(x_test_imdb)\n",
    "print(\n",
    "    'Vocabulary size:', len(binary_vectorizer.vocabulary_)\n",
    ")\n",
    "x_train = x_train.astype(int)\n",
    "x_test = x_test.astype(int)\n",
    "# print(x_train.shape)\n",
    "\n"
   ]
  },
  {
   "cell_type": "markdown",
   "metadata": {},
   "source": [
    "#### Logistic Regression:\n"
   ]
  },
  {
   "cell_type": "code",
   "execution_count": 40,
   "metadata": {},
   "outputs": [],
   "source": [
    "from sklearn.metrics import accuracy_score, precision_score, recall_score, f1_score, confusion_matrix\n",
    "from scipy.sparse import issparse\n",
    "class LogisticRegression():\n",
    "   \n",
    "\n",
    "    def __init__(self,epochs=20,learning_rate=0.001,threshold=0.5, regularization_factor=1):\n",
    "        self.epochs=epochs;\n",
    "        self.learning_rate=learning_rate\n",
    "        self.weights = np.array([])\n",
    "        self.threshold=threshold\n",
    "        self.regularization_factor = regularization_factor\n",
    "        \n",
    "    \n",
    "    def set_threshold(self,value):\n",
    "        self.threshold = value\n",
    "    def sigmoid(self , t):\n",
    "        return 1/(1+np.exp(-t))\n",
    "\n",
    "\n",
    "    def fit(self,x_train_input,y_train_input):\n",
    "        ''' '''\n",
    "        feature_vector_length = x_train_input.shape[1]\n",
    "        split_index = int(0.8 * x_train_input.shape[0])  # 80% for training, 20% for dev\n",
    "        x_train, y_train = x_train_input[:split_index], y_train_input[:split_index]\n",
    "        x_dev, y_dev= x_train_input[split_index:], y_train_input[split_index:]\n",
    "        x_dev = x_dev.toarray()\n",
    "\n",
    "        x_train = x_train.toarray()\n",
    "        ones_column = np.ones(x_train.shape[0])\n",
    "        x_train = np.insert(x_train, 0, ones_column, axis=1)\n",
    "        self.weights = self.initialize_weights(feature_vector_length)\n",
    "        \n",
    "        for epoch in range(self.epochs):\n",
    "            for i in range(x_train.shape[0]):\n",
    "                x_i = x_train[i-1]\n",
    "                y_i = y_train[i-1]\n",
    "\n",
    "                self.update_weights(x_i,y_i)\n",
    "        y_dev_predicted = self.predict(x_dev)\n",
    "        return self.evaluate(y_dev_predicted, y_dev)       \n",
    "\n",
    "        print(\"Done!!\")\n",
    "\n",
    "\n",
    "        \n",
    "    \n",
    "    def predict(self, x_test):\n",
    "        \n",
    "        features_length = x_test.shape[1]\n",
    "        if issparse(x_test):\n",
    "            x_test = x_test.toarray()\n",
    "        ones_column = np.ones(x_test.shape[0])\n",
    "        x_test = np.insert(x_test, 0, ones_column, axis=1)#insert 1 in x_vector for w0\n",
    "\n",
    "        y_test_predicted = []\n",
    "\n",
    "\n",
    "        for test_case in x_test:\n",
    "            probability_positive =  self.sigmoid(np.dot(self.weights,test_case))\n",
    "            predicted_class = 1 if probability_positive >= self.threshold else 0\n",
    "            y_test_predicted.append(predicted_class)\n",
    "        return np.array(y_test_predicted)\n",
    "\n",
    "\n",
    "\n",
    "    @staticmethod\n",
    "    def initialize_weights(size):\n",
    "        '''We Initialize the weights with random values with a mean of 0 and a standard deviation of 0.01\n",
    "          This is a common practice to prevent the weights from being too large at the begining '''\n",
    "        return np.random.randn(size+1) * 0.01\n",
    "\n",
    "    def update_weights(self,x_test,y_test):\n",
    "        predicted_prob = self.sigmoid(np.dot(self.weights,x_test))\n",
    "        gradient = ((y_test - predicted_prob) * x_test)\n",
    "        self.weights += self.learning_rate * gradient \n",
    "    \n",
    "    def evaluate(self, y_true, y_predicted):\n",
    "        accuracy = accuracy_score(y_true, y_predicted)\n",
    "        print(\"Accuracy:\", accuracy)\n",
    "\n",
    "        precision = precision_score(y_true, y_predicted)\n",
    "        print(\"Precision:\", precision)\n",
    "\n",
    "        # Compute recall\n",
    "        recall = recall_score(y_true, y_predicted)\n",
    "        print(\"Recall:\", recall)\n",
    "\n",
    "        # Compute F1 score\n",
    "        f1 = f1_score(y_true, y_predicted)\n",
    "        print(\"F1 Score:\", f1)\n",
    "        print(\"Threshold: \"+str(self.threshold))\n",
    "        return np.array([precision,recall])\n",
    "    \n",
    "\n",
    "    def generate_pr_curve(self, x_train_input,y_train_input,size=20):\n",
    "        currentThreshold = 0\n",
    "        percisions=[]\n",
    "        recalls=[]\n",
    "        for i in range(size):\n",
    "            currentThreshold += 1./size\n",
    "            if (currentThreshold>0.3 and currentThreshold<0.75):\n",
    "                self.set_threshold(currentThreshold)\n",
    "                fit_pr = self.fit(x_train_input , y_train_input)\n",
    "                percisions.append(fit_pr[0])\n",
    "                recalls.append(fit_pr[1])\n",
    "        print(percisions)\n",
    "        plt.plot(recalls,percisions ,label='Precision-Recall Curve')\n",
    "        plt.xlabel('Recall')\n",
    "        plt.ylabel('Precision')\n",
    "        plt.title('Precision-Recall Diagram')\n",
    "        plt.legend()\n",
    "        plt.show()\n"
   ]
  },
  {
   "cell_type": "markdown",
   "metadata": {},
   "source": [
    "#### Results\n",
    "Here we try out the Logistic Regression learning algorithm"
   ]
  },
  {
   "cell_type": "code",
   "execution_count": 41,
   "metadata": {},
   "outputs": [
    {
     "name": "stdout",
     "output_type": "stream",
     "text": [
      "Accuracy: 0.8702\n",
      "Precision: 0.9185905224787363\n",
      "Recall: 0.8350515463917526\n",
      "F1 Score: 0.8748312439729989\n",
      "Threshold: 0.35\n",
      "Accuracy: 0.875\n",
      "Precision: 0.9048197650870798\n",
      "Recall: 0.8513719512195121\n",
      "F1 Score: 0.8772825446691537\n",
      "Threshold: 0.39999999999999997\n",
      "Accuracy: 0.8778\n",
      "Precision: 0.8922640745240988\n",
      "Recall: 0.8645996860282574\n",
      "F1 Score: 0.8782140721546741\n",
      "Threshold: 0.44999999999999996\n",
      "Accuracy: 0.8774\n",
      "Precision: 0.8813284730660186\n",
      "Recall: 0.8717948717948718\n",
      "F1 Score: 0.8765357502517622\n",
      "Threshold: 0.49999999999999994\n",
      "Accuracy: 0.876\n",
      "Precision: 0.8655326042932361\n",
      "Recall: 0.8812371134020619\n",
      "F1 Score: 0.8733142623620761\n",
      "Threshold: 0.5499999999999999\n",
      "Accuracy: 0.871\n",
      "Precision: 0.8448764682057514\n",
      "Recall: 0.8884156729131175\n",
      "F1 Score: 0.8660992318870666\n",
      "Threshold: 0.6\n",
      "Accuracy: 0.8692\n",
      "Precision: 0.8258404212231673\n",
      "Recall: 0.9010163499779055\n",
      "F1 Score: 0.8617920540997465\n",
      "Threshold: 0.65\n",
      "Accuracy: 0.8636\n",
      "Precision: 0.8027541514783313\n",
      "Recall: 0.9104271933853928\n",
      "F1 Score: 0.8532070598364184\n",
      "Threshold: 0.7000000000000001\n",
      "[0.9185905224787363, 0.9048197650870798, 0.8922640745240988, 0.8813284730660186, 0.8655326042932361, 0.8448764682057514, 0.8258404212231673, 0.8027541514783313]\n"
     ]
    },
    {
     "data": {
      "image/png": "[encoded data removed]",
      "text/plain": [
       "<Figure size 640x480 with 1 Axes>"
      ]
     },
     "metadata": {},
     "output_type": "display_data"
    }
   ],
   "source": [
    "LogReg = LogisticRegression(100,threshold=0.5, regularization_factor=0.01)\n",
    "LogReg.fit(x_train,y_train)\n",
    "y_predicted = LogReg.predict(x_test)\n",
    "# fit(x_train,y_train)\n",
    " \n",
    "# y_predicted = LogReg.predict(x_test)\n",
    "\n",
    "LogReg.evaluate(y_test,y_predicted)"
   ]
  }
 ],
 "metadata": {
  "kernelspec": {
   "display_name": "Python 3",
   "language": "python",
   "name": "python3"
  },
  "language_info": {
   "codemirror_mode": {
    "name": "ipython",
    "version": 3
   },
   "file_extension": ".py",
   "mimetype": "text/x-python",
   "name": "python",
   "nbconvert_exporter": "python",
   "pygments_lexer": "ipython3",
   "version": "3.10.6"
  }
 },
 "nbformat": 4,
 "nbformat_minor": 2
}
